{
 "cells": [
  {
   "cell_type": "markdown",
   "metadata": {},
   "source": [
    "# Suicides in India\n",
    "**About 800000 people die by suicide everywhere across the world and in India alone more than 135000 which is 17% of the total deaths**. Though the suicide rate in India is decreasing but the total deaths is still high. In this project, I have looked into suicide data of India from year 2001-2012 and have analysed suicide rate , cause of deaths, deaths in different age-groups, deaths amongst different genders etc.\n",
    "\n",
    "This dataset was taken from Kaggle datasets. I am using Pandas library to parse and analyze data and using Matplotlip and Seaborn for visualizations. This project was part of the course [Zero to Pandas](http://zerotopandas.com).\n"
   ]
  },
  {
   "cell_type": "code",
   "execution_count": 1,
   "metadata": {},
   "outputs": [],
   "source": [
    "project_name = \"suicides-in-india\""
   ]
  },
  {
   "cell_type": "code",
   "execution_count": 1,
   "metadata": {},
   "outputs": [],
   "source": [
    "!pip install jovian --upgrade -q"
   ]
  },
  {
   "cell_type": "code",
   "execution_count": 2,
   "metadata": {},
   "outputs": [],
   "source": [
    "import jovian"
   ]
  },
  {
   "cell_type": "code",
   "execution_count": null,
   "metadata": {
    "scrolled": true
   },
   "outputs": [
    {
     "data": {
      "application/javascript": [
       "window.require && require([\"base/js/namespace\"],function(Jupyter){Jupyter.notebook.save_checkpoint()})"
      ],
      "text/plain": [
       "<IPython.core.display.Javascript object>"
      ]
     },
     "metadata": {},
     "output_type": "display_data"
    }
   ],
   "source": [
    "jovian.commit(files=['india-suicide.csv'])"
   ]
  },
  {
   "cell_type": "markdown",
   "metadata": {},
   "source": [
    "## Data Preparation and Cleaning\n",
    "Lets us have a look at the dataset columns and values."
   ]
  },
  {
   "cell_type": "code",
   "execution_count": 3,
   "metadata": {},
   "outputs": [],
   "source": [
    "# Installing Pandas\n",
    "!pip install pandas --upgrade -q"
   ]
  },
  {
   "cell_type": "code",
   "execution_count": 4,
   "metadata": {},
   "outputs": [],
   "source": [
    "import pandas as pd"
   ]
  },
  {
   "cell_type": "markdown",
   "metadata": {},
   "source": [
    "## Loading the Dataset into a Pandas dataframe"
   ]
  },
  {
   "cell_type": "code",
   "execution_count": 96,
   "metadata": {},
   "outputs": [],
   "source": [
    "ind_suicide_df=pd.read_csv('india-suicide.csv')"
   ]
  },
  {
   "cell_type": "code",
   "execution_count": 6,
   "metadata": {},
   "outputs": [
    {
     "data": {
      "text/plain": [
       "(237519, 7)"
      ]
     },
     "execution_count": 6,
     "metadata": {},
     "output_type": "execute_result"
    }
   ],
   "source": [
    "ind_suicide_df.shape"
   ]
  },
  {
   "cell_type": "code",
   "execution_count": 7,
   "metadata": {},
   "outputs": [
    {
     "name": "stdout",
     "output_type": "stream",
     "text": [
      "<class 'pandas.core.frame.DataFrame'>\n",
      "RangeIndex: 237519 entries, 0 to 237518\n",
      "Data columns (total 7 columns):\n",
      " #   Column     Non-Null Count   Dtype \n",
      "---  ------     --------------   ----- \n",
      " 0   State      237519 non-null  object\n",
      " 1   Year       237519 non-null  int64 \n",
      " 2   Type_code  237519 non-null  object\n",
      " 3   Type       237519 non-null  object\n",
      " 4   Gender     237519 non-null  object\n",
      " 5   Age_group  237519 non-null  object\n",
      " 6   Total      237519 non-null  int64 \n",
      "dtypes: int64(2), object(5)\n",
      "memory usage: 12.7+ MB\n"
     ]
    }
   ],
   "source": [
    "ind_suicide_df.info()"
   ]
  },
  {
   "cell_type": "markdown",
   "metadata": {},
   "source": [
    "So the dataset has columns such as State, Year, Gender, Age_group, Type, Total etc. Lets us look at some of the values in the dataset."
   ]
  },
  {
   "cell_type": "code",
   "execution_count": 8,
   "metadata": {},
   "outputs": [
    {
     "data": {
      "text/html": [
       "<div>\n",
       "<style scoped>\n",
       "    .dataframe tbody tr th:only-of-type {\n",
       "        vertical-align: middle;\n",
       "    }\n",
       "\n",
       "    .dataframe tbody tr th {\n",
       "        vertical-align: top;\n",
       "    }\n",
       "\n",
       "    .dataframe thead th {\n",
       "        text-align: right;\n",
       "    }\n",
       "</style>\n",
       "<table border=\"1\" class=\"dataframe\">\n",
       "  <thead>\n",
       "    <tr style=\"text-align: right;\">\n",
       "      <th></th>\n",
       "      <th>State</th>\n",
       "      <th>Year</th>\n",
       "      <th>Type_code</th>\n",
       "      <th>Type</th>\n",
       "      <th>Gender</th>\n",
       "      <th>Age_group</th>\n",
       "      <th>Total</th>\n",
       "    </tr>\n",
       "  </thead>\n",
       "  <tbody>\n",
       "    <tr>\n",
       "      <th>84596</th>\n",
       "      <td>Haryana</td>\n",
       "      <td>2007</td>\n",
       "      <td>Causes</td>\n",
       "      <td>Divorce</td>\n",
       "      <td>Female</td>\n",
       "      <td>45-59</td>\n",
       "      <td>0</td>\n",
       "    </tr>\n",
       "    <tr>\n",
       "      <th>165363</th>\n",
       "      <td>Nagaland</td>\n",
       "      <td>2006</td>\n",
       "      <td>Means_adopted</td>\n",
       "      <td>By Machine</td>\n",
       "      <td>Female</td>\n",
       "      <td>60+</td>\n",
       "      <td>0</td>\n",
       "    </tr>\n",
       "    <tr>\n",
       "      <th>145152</th>\n",
       "      <td>Manipur</td>\n",
       "      <td>2006</td>\n",
       "      <td>Means_adopted</td>\n",
       "      <td>By Self Infliction of injury</td>\n",
       "      <td>Female</td>\n",
       "      <td>45-59</td>\n",
       "      <td>0</td>\n",
       "    </tr>\n",
       "    <tr>\n",
       "      <th>88104</th>\n",
       "      <td>Himachal Pradesh</td>\n",
       "      <td>2001</td>\n",
       "      <td>Means_adopted</td>\n",
       "      <td>By touching electric wires</td>\n",
       "      <td>Female</td>\n",
       "      <td>0-14</td>\n",
       "      <td>0</td>\n",
       "    </tr>\n",
       "    <tr>\n",
       "      <th>212236</th>\n",
       "      <td>Tripura</td>\n",
       "      <td>2004</td>\n",
       "      <td>Causes</td>\n",
       "      <td>Bankruptcy or Sudden change in Economic</td>\n",
       "      <td>Male</td>\n",
       "      <td>30-44</td>\n",
       "      <td>7</td>\n",
       "    </tr>\n",
       "    <tr>\n",
       "      <th>101365</th>\n",
       "      <td>Jharkhand</td>\n",
       "      <td>2001</td>\n",
       "      <td>Causes</td>\n",
       "      <td>Death of Dear Person</td>\n",
       "      <td>Female</td>\n",
       "      <td>0-14</td>\n",
       "      <td>0</td>\n",
       "    </tr>\n",
       "    <tr>\n",
       "      <th>216198</th>\n",
       "      <td>Tripura</td>\n",
       "      <td>2011</td>\n",
       "      <td>Causes</td>\n",
       "      <td>Unemployment</td>\n",
       "      <td>Male</td>\n",
       "      <td>30-44</td>\n",
       "      <td>0</td>\n",
       "    </tr>\n",
       "    <tr>\n",
       "      <th>183634</th>\n",
       "      <td>Punjab</td>\n",
       "      <td>2003</td>\n",
       "      <td>Causes</td>\n",
       "      <td>Fall in Social Reputation</td>\n",
       "      <td>Female</td>\n",
       "      <td>30-44</td>\n",
       "      <td>0</td>\n",
       "    </tr>\n",
       "    <tr>\n",
       "      <th>89648</th>\n",
       "      <td>Himachal Pradesh</td>\n",
       "      <td>2004</td>\n",
       "      <td>Causes</td>\n",
       "      <td>Insanity/Mental Illness</td>\n",
       "      <td>Male</td>\n",
       "      <td>30-44</td>\n",
       "      <td>7</td>\n",
       "    </tr>\n",
       "    <tr>\n",
       "      <th>151503</th>\n",
       "      <td>Meghalaya</td>\n",
       "      <td>2006</td>\n",
       "      <td>Causes</td>\n",
       "      <td>Other Causes (Please Specity)</td>\n",
       "      <td>Female</td>\n",
       "      <td>0-14</td>\n",
       "      <td>0</td>\n",
       "    </tr>\n",
       "  </tbody>\n",
       "</table>\n",
       "</div>"
      ],
      "text/plain": [
       "                   State  Year      Type_code  \\\n",
       "84596            Haryana  2007         Causes   \n",
       "165363          Nagaland  2006  Means_adopted   \n",
       "145152           Manipur  2006  Means_adopted   \n",
       "88104   Himachal Pradesh  2001  Means_adopted   \n",
       "212236           Tripura  2004         Causes   \n",
       "101365         Jharkhand  2001         Causes   \n",
       "216198           Tripura  2011         Causes   \n",
       "183634            Punjab  2003         Causes   \n",
       "89648   Himachal Pradesh  2004         Causes   \n",
       "151503         Meghalaya  2006         Causes   \n",
       "\n",
       "                                           Type  Gender Age_group  Total  \n",
       "84596                                   Divorce  Female     45-59      0  \n",
       "165363                               By Machine  Female       60+      0  \n",
       "145152             By Self Infliction of injury  Female     45-59      0  \n",
       "88104                By touching electric wires  Female      0-14      0  \n",
       "212236  Bankruptcy or Sudden change in Economic    Male     30-44      7  \n",
       "101365                     Death of Dear Person  Female      0-14      0  \n",
       "216198                             Unemployment    Male     30-44      0  \n",
       "183634                Fall in Social Reputation  Female     30-44      0  \n",
       "89648                   Insanity/Mental Illness    Male     30-44      7  \n",
       "151503            Other Causes (Please Specity)  Female      0-14      0  "
      ]
     },
     "execution_count": 8,
     "metadata": {},
     "output_type": "execute_result"
    }
   ],
   "source": [
    "ind_suicide_df.sample(10)"
   ]
  },
  {
   "cell_type": "markdown",
   "metadata": {},
   "source": [
    "The dataset has pretty rich information about no. of deaths, cause of death, gender etc. We can see that some of the values in 'Total' column is zero i.e. for that state, gender,age_group and year there are no deaths for that cause. **Lets remove such rows where total value is 0.** "
   ]
  },
  {
   "cell_type": "code",
   "execution_count": 97,
   "metadata": {},
   "outputs": [],
   "source": [
    "#Only keeping rows where total >0\n",
    "ind_suicide_df=ind_suicide_df[ind_suicide_df.Total >0] "
   ]
  },
  {
   "cell_type": "markdown",
   "metadata": {},
   "source": [
    "Also if you observe 'Type_code' column, then one can observe that there are redundancies in the data. \n",
    "For example, person who died is a student(Professional_Profile) would also appear in person with Cause(cause of death such as Exam, Drug Abuse etc.) So for this reason in Type_code we will keep only one type_code in order to get no redundant data. **Lets just keep causes in the column Type_code**"
   ]
  },
  {
   "cell_type": "code",
   "execution_count": 10,
   "metadata": {},
   "outputs": [],
   "source": [
    "# Just Keep causes to remove redundancy\n",
    "ind_suicide_df=ind_suicide_df[ind_suicide_df.Type_code=='Causes']"
   ]
  },
  {
   "cell_type": "code",
   "execution_count": 11,
   "metadata": {},
   "outputs": [
    {
     "data": {
      "text/html": [
       "<div>\n",
       "<style scoped>\n",
       "    .dataframe tbody tr th:only-of-type {\n",
       "        vertical-align: middle;\n",
       "    }\n",
       "\n",
       "    .dataframe tbody tr th {\n",
       "        vertical-align: top;\n",
       "    }\n",
       "\n",
       "    .dataframe thead th {\n",
       "        text-align: right;\n",
       "    }\n",
       "</style>\n",
       "<table border=\"1\" class=\"dataframe\">\n",
       "  <thead>\n",
       "    <tr style=\"text-align: right;\">\n",
       "      <th></th>\n",
       "      <th>State</th>\n",
       "      <th>Year</th>\n",
       "      <th>Type_code</th>\n",
       "      <th>Type</th>\n",
       "      <th>Gender</th>\n",
       "      <th>Age_group</th>\n",
       "      <th>Total</th>\n",
       "    </tr>\n",
       "  </thead>\n",
       "  <tbody>\n",
       "    <tr>\n",
       "      <th>13</th>\n",
       "      <td>A &amp; N Islands</td>\n",
       "      <td>2001</td>\n",
       "      <td>Causes</td>\n",
       "      <td>Love Affairs</td>\n",
       "      <td>Female</td>\n",
       "      <td>0-14</td>\n",
       "      <td>1</td>\n",
       "    </tr>\n",
       "    <tr>\n",
       "      <th>20</th>\n",
       "      <td>A &amp; N Islands</td>\n",
       "      <td>2001</td>\n",
       "      <td>Causes</td>\n",
       "      <td>Other Causes (Please Specity)</td>\n",
       "      <td>Female</td>\n",
       "      <td>0-14</td>\n",
       "      <td>1</td>\n",
       "    </tr>\n",
       "    <tr>\n",
       "      <th>32</th>\n",
       "      <td>A &amp; N Islands</td>\n",
       "      <td>2001</td>\n",
       "      <td>Causes</td>\n",
       "      <td>Other Prolonged Illness</td>\n",
       "      <td>Male</td>\n",
       "      <td>0-14</td>\n",
       "      <td>1</td>\n",
       "    </tr>\n",
       "    <tr>\n",
       "      <th>47</th>\n",
       "      <td>A &amp; N Islands</td>\n",
       "      <td>2001</td>\n",
       "      <td>Causes</td>\n",
       "      <td>Failure in Examination</td>\n",
       "      <td>Male</td>\n",
       "      <td>0-14</td>\n",
       "      <td>1</td>\n",
       "    </tr>\n",
       "    <tr>\n",
       "      <th>54</th>\n",
       "      <td>A &amp; N Islands</td>\n",
       "      <td>2001</td>\n",
       "      <td>Causes</td>\n",
       "      <td>Other Prolonged Illness</td>\n",
       "      <td>Female</td>\n",
       "      <td>15-29</td>\n",
       "      <td>8</td>\n",
       "    </tr>\n",
       "    <tr>\n",
       "      <th>...</th>\n",
       "      <td>...</td>\n",
       "      <td>...</td>\n",
       "      <td>...</td>\n",
       "      <td>...</td>\n",
       "      <td>...</td>\n",
       "      <td>...</td>\n",
       "      <td>...</td>\n",
       "    </tr>\n",
       "    <tr>\n",
       "      <th>236650</th>\n",
       "      <td>West Bengal</td>\n",
       "      <td>2011</td>\n",
       "      <td>Causes</td>\n",
       "      <td>Other Prolonged Illness</td>\n",
       "      <td>Male</td>\n",
       "      <td>60+</td>\n",
       "      <td>41</td>\n",
       "    </tr>\n",
       "    <tr>\n",
       "      <th>236651</th>\n",
       "      <td>West Bengal</td>\n",
       "      <td>2011</td>\n",
       "      <td>Causes</td>\n",
       "      <td>Fall in Social Reputation</td>\n",
       "      <td>Male</td>\n",
       "      <td>60+</td>\n",
       "      <td>3</td>\n",
       "    </tr>\n",
       "    <tr>\n",
       "      <th>236652</th>\n",
       "      <td>West Bengal</td>\n",
       "      <td>2011</td>\n",
       "      <td>Causes</td>\n",
       "      <td>Insanity/Mental Illness</td>\n",
       "      <td>Male</td>\n",
       "      <td>60+</td>\n",
       "      <td>35</td>\n",
       "    </tr>\n",
       "    <tr>\n",
       "      <th>236653</th>\n",
       "      <td>West Bengal</td>\n",
       "      <td>2011</td>\n",
       "      <td>Causes</td>\n",
       "      <td>Other Causes (Please Specity)</td>\n",
       "      <td>Male</td>\n",
       "      <td>60+</td>\n",
       "      <td>136</td>\n",
       "    </tr>\n",
       "    <tr>\n",
       "      <th>236655</th>\n",
       "      <td>West Bengal</td>\n",
       "      <td>2011</td>\n",
       "      <td>Causes</td>\n",
       "      <td>Drug Abuse/Addiction</td>\n",
       "      <td>Male</td>\n",
       "      <td>60+</td>\n",
       "      <td>13</td>\n",
       "    </tr>\n",
       "  </tbody>\n",
       "</table>\n",
       "<p>39531 rows × 7 columns</p>\n",
       "</div>"
      ],
      "text/plain": [
       "                State  Year Type_code                           Type  Gender  \\\n",
       "13      A & N Islands  2001    Causes                   Love Affairs  Female   \n",
       "20      A & N Islands  2001    Causes  Other Causes (Please Specity)  Female   \n",
       "32      A & N Islands  2001    Causes        Other Prolonged Illness    Male   \n",
       "47      A & N Islands  2001    Causes         Failure in Examination    Male   \n",
       "54      A & N Islands  2001    Causes        Other Prolonged Illness  Female   \n",
       "...               ...   ...       ...                            ...     ...   \n",
       "236650    West Bengal  2011    Causes        Other Prolonged Illness    Male   \n",
       "236651    West Bengal  2011    Causes      Fall in Social Reputation    Male   \n",
       "236652    West Bengal  2011    Causes        Insanity/Mental Illness    Male   \n",
       "236653    West Bengal  2011    Causes  Other Causes (Please Specity)    Male   \n",
       "236655    West Bengal  2011    Causes           Drug Abuse/Addiction    Male   \n",
       "\n",
       "       Age_group  Total  \n",
       "13          0-14      1  \n",
       "20          0-14      1  \n",
       "32          0-14      1  \n",
       "47          0-14      1  \n",
       "54         15-29      8  \n",
       "...          ...    ...  \n",
       "236650       60+     41  \n",
       "236651       60+      3  \n",
       "236652       60+     35  \n",
       "236653       60+    136  \n",
       "236655       60+     13  \n",
       "\n",
       "[39531 rows x 7 columns]"
      ]
     },
     "execution_count": 11,
     "metadata": {},
     "output_type": "execute_result"
    }
   ],
   "source": [
    "ind_suicide_df"
   ]
  },
  {
   "cell_type": "markdown",
   "metadata": {},
   "source": [
    "**So we have removed all kind of redundancies from the data and one person's data appears only once in the above dataframe. Also all those rows with zero deaths are also removed.**"
   ]
  },
  {
   "cell_type": "markdown",
   "metadata": {},
   "source": [
    "After we have cleaned the data, now we extract out answers for some questions from the dataset."
   ]
  },
  {
   "cell_type": "markdown",
   "metadata": {},
   "source": [
    "## Q1. Which State in India has the highest number of suicides?"
   ]
  },
  {
   "cell_type": "markdown",
   "metadata": {},
   "source": [
    "First we group the dataframe according to the *State* column and the aggregate using *Total*"
   ]
  },
  {
   "cell_type": "code",
   "execution_count": 12,
   "metadata": {},
   "outputs": [],
   "source": [
    "# State Wise suicide\n",
    "agg_suicide_state=ind_suicide_df.groupby('State')[['Total']].sum()"
   ]
  },
  {
   "cell_type": "code",
   "execution_count": 13,
   "metadata": {},
   "outputs": [],
   "source": [
    "# Taking average number of suicide for past 12 years.\n",
    "# Adding a column avg_suicide\n",
    "agg_suicide_state['avg_suicide']=agg_suicide_state['Total']/12"
   ]
  },
  {
   "cell_type": "code",
   "execution_count": 14,
   "metadata": {},
   "outputs": [],
   "source": [
    "# Top 10 states with highest number of average suicides in the past 12 years\n",
    "top10_suicide=agg_suicide_state.sort_values('avg_suicide',ascending=False).head(10)"
   ]
  },
  {
   "cell_type": "code",
   "execution_count": 15,
   "metadata": {},
   "outputs": [
    {
     "data": {
      "text/html": [
       "<div>\n",
       "<style scoped>\n",
       "    .dataframe tbody tr th:only-of-type {\n",
       "        vertical-align: middle;\n",
       "    }\n",
       "\n",
       "    .dataframe tbody tr th {\n",
       "        vertical-align: top;\n",
       "    }\n",
       "\n",
       "    .dataframe thead th {\n",
       "        text-align: right;\n",
       "    }\n",
       "</style>\n",
       "<table border=\"1\" class=\"dataframe\">\n",
       "  <thead>\n",
       "    <tr style=\"text-align: right;\">\n",
       "      <th></th>\n",
       "      <th>Total</th>\n",
       "      <th>avg_suicide</th>\n",
       "    </tr>\n",
       "    <tr>\n",
       "      <th>State</th>\n",
       "      <th></th>\n",
       "      <th></th>\n",
       "    </tr>\n",
       "  </thead>\n",
       "  <tbody>\n",
       "    <tr>\n",
       "      <th>Maharashtra</th>\n",
       "      <td>180389</td>\n",
       "      <td>15032.416667</td>\n",
       "    </tr>\n",
       "    <tr>\n",
       "      <th>Tamil Nadu</th>\n",
       "      <td>163813</td>\n",
       "      <td>13651.083333</td>\n",
       "    </tr>\n",
       "    <tr>\n",
       "      <th>Andhra Pradesh</th>\n",
       "      <td>162820</td>\n",
       "      <td>13568.333333</td>\n",
       "    </tr>\n",
       "    <tr>\n",
       "      <th>West Bengal</th>\n",
       "      <td>161030</td>\n",
       "      <td>13419.166667</td>\n",
       "    </tr>\n",
       "    <tr>\n",
       "      <th>Karnataka</th>\n",
       "      <td>146965</td>\n",
       "      <td>12247.083333</td>\n",
       "    </tr>\n",
       "    <tr>\n",
       "      <th>Kerala</th>\n",
       "      <td>107936</td>\n",
       "      <td>8994.666667</td>\n",
       "    </tr>\n",
       "    <tr>\n",
       "      <th>Madhya Pradesh</th>\n",
       "      <td>90307</td>\n",
       "      <td>7525.583333</td>\n",
       "    </tr>\n",
       "    <tr>\n",
       "      <th>Gujarat</th>\n",
       "      <td>66177</td>\n",
       "      <td>5514.750000</td>\n",
       "    </tr>\n",
       "    <tr>\n",
       "      <th>Chhattisgarh</th>\n",
       "      <td>60495</td>\n",
       "      <td>5041.250000</td>\n",
       "    </tr>\n",
       "    <tr>\n",
       "      <th>Odisha</th>\n",
       "      <td>53448</td>\n",
       "      <td>4454.000000</td>\n",
       "    </tr>\n",
       "  </tbody>\n",
       "</table>\n",
       "</div>"
      ],
      "text/plain": [
       "                 Total   avg_suicide\n",
       "State                               \n",
       "Maharashtra     180389  15032.416667\n",
       "Tamil Nadu      163813  13651.083333\n",
       "Andhra Pradesh  162820  13568.333333\n",
       "West Bengal     161030  13419.166667\n",
       "Karnataka       146965  12247.083333\n",
       "Kerala          107936   8994.666667\n",
       "Madhya Pradesh   90307   7525.583333\n",
       "Gujarat          66177   5514.750000\n",
       "Chhattisgarh     60495   5041.250000\n",
       "Odisha           53448   4454.000000"
      ]
     },
     "execution_count": 15,
     "metadata": {},
     "output_type": "execute_result"
    }
   ],
   "source": [
    "top10_suicide"
   ]
  },
  {
   "cell_type": "markdown",
   "metadata": {},
   "source": [
    "**Lets present this visually to compare different states**"
   ]
  },
  {
   "cell_type": "code",
   "execution_count": 16,
   "metadata": {
    "scrolled": false
   },
   "outputs": [
    {
     "data": {
      "image/png": "[encoded data removed]",
      "text/plain": [
       "<Figure size 864x360 with 1 Axes>"
      ]
     },
     "metadata": {
      "needs_background": "light"
     },
     "output_type": "display_data"
    }
   ],
   "source": [
    "top10_suicide.avg_suicide.plot(kind='bar',figsize=(12,5),title='States with Highest Suicide',fontsize=15,xlabel='State',ylabel='Yearly Total Suicides ');"
   ]
  },
  {
   "cell_type": "markdown",
   "metadata": {},
   "source": [
    "On an average number of suicides between 2001-12, **Maharashtra with more than 15000 suicides** had the highest number of suicides followed by Tamil Nadu, Andhra Pradesh and West Bengal. Maharashtra, Tamil Nadu are one of the developed states of the country and they have the highest number of suicides."
   ]
  },
  {
   "cell_type": "markdown",
   "metadata": {},
   "source": [
    "## Q2. What is the yearly number of suicides in India?"
   ]
  },
  {
   "cell_type": "markdown",
   "metadata": {},
   "source": [
    "Lets us see how the number of suicides are growing yearly in India. Is it decreasing , increasing ?"
   ]
  },
  {
   "cell_type": "code",
   "execution_count": 17,
   "metadata": {},
   "outputs": [],
   "source": [
    "# Yearly suicides in India - Group by 'Year' and aggregate using 'Total'\n",
    "yearly_suicide_df=ind_suicide_df.groupby(['Year'])[['Total']].sum()"
   ]
  },
  {
   "cell_type": "code",
   "execution_count": 18,
   "metadata": {
    "scrolled": false
   },
   "outputs": [
    {
     "data": {
      "text/html": [
       "<div>\n",
       "<style scoped>\n",
       "    .dataframe tbody tr th:only-of-type {\n",
       "        vertical-align: middle;\n",
       "    }\n",
       "\n",
       "    .dataframe tbody tr th {\n",
       "        vertical-align: top;\n",
       "    }\n",
       "\n",
       "    .dataframe thead th {\n",
       "        text-align: right;\n",
       "    }\n",
       "</style>\n",
       "<table border=\"1\" class=\"dataframe\">\n",
       "  <thead>\n",
       "    <tr style=\"text-align: right;\">\n",
       "      <th></th>\n",
       "      <th>Year</th>\n",
       "      <th>Total</th>\n",
       "    </tr>\n",
       "  </thead>\n",
       "  <tbody>\n",
       "    <tr>\n",
       "      <th>0</th>\n",
       "      <td>2001</td>\n",
       "      <td>108506</td>\n",
       "    </tr>\n",
       "    <tr>\n",
       "      <th>1</th>\n",
       "      <td>2002</td>\n",
       "      <td>110417</td>\n",
       "    </tr>\n",
       "    <tr>\n",
       "      <th>2</th>\n",
       "      <td>2003</td>\n",
       "      <td>110851</td>\n",
       "    </tr>\n",
       "    <tr>\n",
       "      <th>3</th>\n",
       "      <td>2004</td>\n",
       "      <td>113697</td>\n",
       "    </tr>\n",
       "    <tr>\n",
       "      <th>4</th>\n",
       "      <td>2005</td>\n",
       "      <td>113914</td>\n",
       "    </tr>\n",
       "    <tr>\n",
       "      <th>5</th>\n",
       "      <td>2006</td>\n",
       "      <td>118112</td>\n",
       "    </tr>\n",
       "    <tr>\n",
       "      <th>6</th>\n",
       "      <td>2007</td>\n",
       "      <td>122637</td>\n",
       "    </tr>\n",
       "    <tr>\n",
       "      <th>7</th>\n",
       "      <td>2008</td>\n",
       "      <td>125017</td>\n",
       "    </tr>\n",
       "    <tr>\n",
       "      <th>8</th>\n",
       "      <td>2009</td>\n",
       "      <td>127151</td>\n",
       "    </tr>\n",
       "    <tr>\n",
       "      <th>9</th>\n",
       "      <td>2010</td>\n",
       "      <td>134599</td>\n",
       "    </tr>\n",
       "    <tr>\n",
       "      <th>10</th>\n",
       "      <td>2011</td>\n",
       "      <td>135585</td>\n",
       "    </tr>\n",
       "    <tr>\n",
       "      <th>11</th>\n",
       "      <td>2012</td>\n",
       "      <td>120488</td>\n",
       "    </tr>\n",
       "  </tbody>\n",
       "</table>\n",
       "</div>"
      ],
      "text/plain": [
       "    Year   Total\n",
       "0   2001  108506\n",
       "1   2002  110417\n",
       "2   2003  110851\n",
       "3   2004  113697\n",
       "4   2005  113914\n",
       "5   2006  118112\n",
       "6   2007  122637\n",
       "7   2008  125017\n",
       "8   2009  127151\n",
       "9   2010  134599\n",
       "10  2011  135585\n",
       "11  2012  120488"
      ]
     },
     "execution_count": 18,
     "metadata": {},
     "output_type": "execute_result"
    }
   ],
   "source": [
    "yearly_suicide_df\n",
    "yearly_suicide_df.reset_index()"
   ]
  },
  {
   "cell_type": "markdown",
   "metadata": {},
   "source": [
    "We can't say much just looking at the numbers and compare against different years. Hence lets plot a bar graph with years on x-axis and total suicides on y-axis to understand the trends."
   ]
  },
  {
   "cell_type": "markdown",
   "metadata": {},
   "source": [
    "We will use plot feature of Pandas to plot a bar graph."
   ]
  },
  {
   "cell_type": "code",
   "execution_count": 30,
   "metadata": {},
   "outputs": [],
   "source": [
    "yearly_suicide_df.Total.plot?"
   ]
  },
  {
   "cell_type": "code",
   "execution_count": 31,
   "metadata": {
    "scrolled": false
   },
   "outputs": [
    {
     "data": {
      "image/png": "[encoded data removed]",
      "text/plain": [
       "<Figure size 1008x360 with 1 Axes>"
      ]
     },
     "metadata": {
      "needs_background": "light"
     },
     "output_type": "display_data"
    }
   ],
   "source": [
    "yearly_suicide_df.Total.plot(kind='bar',color='indigo',title='Yearly Suicides in India',xlabel='Year',ylabel='Total Suicides',fontsize=15,figsize=(14,5));"
   ]
  },
  {
   "cell_type": "markdown",
   "metadata": {},
   "source": [
    "From the graph above we see that from 2001 to 2005 the number of deaths by suicide was more or less same and suddenly after 2006 it started increasing and again came down in 2012."
   ]
  },
  {
   "cell_type": "markdown",
   "metadata": {},
   "source": [
    "If we look at the yearly increase in suicide, it is not that large but the number of yearly deaths itself is horrifying. "
   ]
  },
  {
   "cell_type": "markdown",
   "metadata": {},
   "source": [
    "Lets visualize using a line graph and see the trends of yearly suicides."
   ]
  },
  {
   "cell_type": "markdown",
   "metadata": {},
   "source": [
    "We will use now **Matplotlib** and **Seaborn** libraries for visualization purpose."
   ]
  },
  {
   "cell_type": "code",
   "execution_count": 32,
   "metadata": {},
   "outputs": [],
   "source": [
    "# Installing matplotlib and seaborn\n",
    "!pip install matplotlib seaborn --upgrade --quiet"
   ]
  },
  {
   "cell_type": "code",
   "execution_count": 34,
   "metadata": {},
   "outputs": [],
   "source": [
    "# Import \n",
    "import matplotlib.pyplot as plt\n",
    "import seaborn as sns\n",
    "%matplotlib inline"
   ]
  },
  {
   "cell_type": "code",
   "execution_count": 35,
   "metadata": {
    "scrolled": true
   },
   "outputs": [
    {
     "data": {
      "image/png": "[encoded data removed]",
      "text/plain": [
       "<Figure size 432x288 with 1 Axes>"
      ]
     },
     "metadata": {
      "needs_background": "light"
     },
     "output_type": "display_data"
    }
   ],
   "source": [
    "yearly_suicide_df=yearly_suicide_df.reset_index()\n",
    "plt.plot(yearly_suicide_df.Year, yearly_suicide_df.Total);\n",
    "plt.xlabel('Year')\n",
    "plt.ylabel('Total Deaths')\n",
    "plt.title('Yearly Suicides in India');"
   ]
  },
  {
   "cell_type": "markdown",
   "metadata": {},
   "source": [
    "Above is a line graph which shows the increasing trend of number of deaths by suicides in India and observe that the slope is really steep i.e. it is increasing at a very rapid rate with exception in 2012."
   ]
  },
  {
   "cell_type": "markdown",
   "metadata": {},
   "source": [
    "## Q3. How does number of deaths by suicide varies from Male to Female? "
   ]
  },
  {
   "cell_type": "markdown",
   "metadata": {},
   "source": [
    "Lets visualize number of suicides amongst different sex."
   ]
  },
  {
   "cell_type": "code",
   "execution_count": 45,
   "metadata": {},
   "outputs": [],
   "source": [
    "# Create a copy of 4 columns-State , Year, Gender and Total Deaths \n",
    "ind_suicide_compact_df=ind_suicide_df.copy()\n",
    "ind_suicide_compact_df=ind_suicide_compact_df[['Year','Gender','Total']]"
   ]
  },
  {
   "cell_type": "code",
   "execution_count": 47,
   "metadata": {},
   "outputs": [],
   "source": [
    "#Grouping using Year and Gender then aggregate using Total\n",
    "gender_wise_yearly_df=ind_suicide_compact_df.groupby(['Year','Gender'])[['Total']].sum()"
   ]
  },
  {
   "cell_type": "code",
   "execution_count": 48,
   "metadata": {},
   "outputs": [],
   "source": [
    "# Reset index to get the columns back after grouping multiple index\n",
    "gender_wise_yearly_df=gender_wise_yearly_df.reset_index()\n"
   ]
  },
  {
   "cell_type": "markdown",
   "metadata": {},
   "source": [
    "Lets visualize number of suicides based on Gender."
   ]
  },
  {
   "cell_type": "code",
   "execution_count": 79,
   "metadata": {
    "scrolled": false
   },
   "outputs": [
    {
     "data": {
      "image/png": "[encoded data removed]",
      "text/plain": [
       "<Figure size 792x432 with 1 Axes>"
      ]
     },
     "metadata": {
      "needs_background": "light"
     },
     "output_type": "display_data"
    }
   ],
   "source": [
    "# Plotting using Seaborn\n",
    "plt.figure(figsize=(11,6))\n",
    "sns.barplot(x='Year',y='Total',hue='Gender',data=gender_wise_yearly_df);\n",
    "plt.ylabel('Number of Deaths');"
   ]
  },
  {
   "cell_type": "markdown",
   "metadata": {},
   "source": [
    "One can see the trends of suicides in different genders. **Male suicide is constantly increasing** but female suicides \n",
    "is at the same level in past 12 years. Across the world, male suicides are increasing and same is the scenario in India. Also observe that **number of female suicides is almost half the number of male suicides.**"
   ]
  },
  {
   "cell_type": "markdown",
   "metadata": {},
   "source": [
    "## Q4. How does the number of suicides compare in different Age groups?"
   ]
  },
  {
   "cell_type": "markdown",
   "metadata": {},
   "source": [
    "We will analyze now number of deaths in various age-groups. I have wondered myself about the age-group of the people dying by suicide. **Does students and working professional commits highest number of suicides because of work pressure or other life issues?**  Lets look for ourselves."
   ]
  },
  {
   "cell_type": "code",
   "execution_count": 37,
   "metadata": {},
   "outputs": [],
   "source": [
    "# Grouping according State, Age-group and gender\n",
    "state_wise_age_group= ind_suicide_df.groupby(['State', 'Age_group','Gender'])[['Total']].sum()"
   ]
  },
  {
   "cell_type": "code",
   "execution_count": 38,
   "metadata": {},
   "outputs": [],
   "source": [
    "# Get the indices back after groupby \n",
    "state_wise_age_group=state_wise_age_group.reset_index()"
   ]
  },
  {
   "cell_type": "code",
   "execution_count": 39,
   "metadata": {
    "scrolled": false
   },
   "outputs": [
    {
     "data": {
      "text/html": [
       "<div>\n",
       "<style scoped>\n",
       "    .dataframe tbody tr th:only-of-type {\n",
       "        vertical-align: middle;\n",
       "    }\n",
       "\n",
       "    .dataframe tbody tr th {\n",
       "        vertical-align: top;\n",
       "    }\n",
       "\n",
       "    .dataframe thead th {\n",
       "        text-align: right;\n",
       "    }\n",
       "</style>\n",
       "<table border=\"1\" class=\"dataframe\">\n",
       "  <thead>\n",
       "    <tr style=\"text-align: right;\">\n",
       "      <th></th>\n",
       "      <th>State</th>\n",
       "      <th>Age_group</th>\n",
       "      <th>Gender</th>\n",
       "      <th>Total</th>\n",
       "    </tr>\n",
       "  </thead>\n",
       "  <tbody>\n",
       "    <tr>\n",
       "      <th>0</th>\n",
       "      <td>A &amp; N Islands</td>\n",
       "      <td>0-14</td>\n",
       "      <td>Female</td>\n",
       "      <td>31</td>\n",
       "    </tr>\n",
       "    <tr>\n",
       "      <th>1</th>\n",
       "      <td>A &amp; N Islands</td>\n",
       "      <td>0-14</td>\n",
       "      <td>Male</td>\n",
       "      <td>22</td>\n",
       "    </tr>\n",
       "    <tr>\n",
       "      <th>2</th>\n",
       "      <td>A &amp; N Islands</td>\n",
       "      <td>15-29</td>\n",
       "      <td>Female</td>\n",
       "      <td>298</td>\n",
       "    </tr>\n",
       "    <tr>\n",
       "      <th>3</th>\n",
       "      <td>A &amp; N Islands</td>\n",
       "      <td>15-29</td>\n",
       "      <td>Male</td>\n",
       "      <td>332</td>\n",
       "    </tr>\n",
       "    <tr>\n",
       "      <th>4</th>\n",
       "      <td>A &amp; N Islands</td>\n",
       "      <td>30-44</td>\n",
       "      <td>Female</td>\n",
       "      <td>133</td>\n",
       "    </tr>\n",
       "    <tr>\n",
       "      <th>...</th>\n",
       "      <td>...</td>\n",
       "      <td>...</td>\n",
       "      <td>...</td>\n",
       "      <td>...</td>\n",
       "    </tr>\n",
       "    <tr>\n",
       "      <th>338</th>\n",
       "      <td>West Bengal</td>\n",
       "      <td>30-44</td>\n",
       "      <td>Male</td>\n",
       "      <td>33553</td>\n",
       "    </tr>\n",
       "    <tr>\n",
       "      <th>339</th>\n",
       "      <td>West Bengal</td>\n",
       "      <td>45-59</td>\n",
       "      <td>Female</td>\n",
       "      <td>11964</td>\n",
       "    </tr>\n",
       "    <tr>\n",
       "      <th>340</th>\n",
       "      <td>West Bengal</td>\n",
       "      <td>45-59</td>\n",
       "      <td>Male</td>\n",
       "      <td>21450</td>\n",
       "    </tr>\n",
       "    <tr>\n",
       "      <th>341</th>\n",
       "      <td>West Bengal</td>\n",
       "      <td>60+</td>\n",
       "      <td>Female</td>\n",
       "      <td>3373</td>\n",
       "    </tr>\n",
       "    <tr>\n",
       "      <th>342</th>\n",
       "      <td>West Bengal</td>\n",
       "      <td>60+</td>\n",
       "      <td>Male</td>\n",
       "      <td>6126</td>\n",
       "    </tr>\n",
       "  </tbody>\n",
       "</table>\n",
       "<p>343 rows × 4 columns</p>\n",
       "</div>"
      ],
      "text/plain": [
       "             State Age_group  Gender  Total\n",
       "0    A & N Islands      0-14  Female     31\n",
       "1    A & N Islands      0-14    Male     22\n",
       "2    A & N Islands     15-29  Female    298\n",
       "3    A & N Islands     15-29    Male    332\n",
       "4    A & N Islands     30-44  Female    133\n",
       "..             ...       ...     ...    ...\n",
       "338    West Bengal     30-44    Male  33553\n",
       "339    West Bengal     45-59  Female  11964\n",
       "340    West Bengal     45-59    Male  21450\n",
       "341    West Bengal       60+  Female   3373\n",
       "342    West Bengal       60+    Male   6126\n",
       "\n",
       "[343 rows x 4 columns]"
      ]
     },
     "execution_count": 39,
     "metadata": {},
     "output_type": "execute_result"
    }
   ],
   "source": [
    "state_wise_age_group"
   ]
  },
  {
   "cell_type": "markdown",
   "metadata": {},
   "source": [
    "It is difficult to analyze by just looking at these numbers. Lets interpret it grpahically."
   ]
  },
  {
   "cell_type": "code",
   "execution_count": 40,
   "metadata": {},
   "outputs": [],
   "source": [
    "# Create a separate copy \n",
    "age_group_df=state_wise_age_group.copy()"
   ]
  },
  {
   "cell_type": "code",
   "execution_count": 41,
   "metadata": {},
   "outputs": [
    {
     "data": {
      "text/html": [
       "<div>\n",
       "<style scoped>\n",
       "    .dataframe tbody tr th:only-of-type {\n",
       "        vertical-align: middle;\n",
       "    }\n",
       "\n",
       "    .dataframe tbody tr th {\n",
       "        vertical-align: top;\n",
       "    }\n",
       "\n",
       "    .dataframe thead th {\n",
       "        text-align: right;\n",
       "    }\n",
       "</style>\n",
       "<table border=\"1\" class=\"dataframe\">\n",
       "  <thead>\n",
       "    <tr style=\"text-align: right;\">\n",
       "      <th></th>\n",
       "      <th>State</th>\n",
       "      <th>Age_group</th>\n",
       "      <th>Gender</th>\n",
       "      <th>Total</th>\n",
       "    </tr>\n",
       "  </thead>\n",
       "  <tbody>\n",
       "    <tr>\n",
       "      <th>0</th>\n",
       "      <td>A &amp; N Islands</td>\n",
       "      <td>0-14</td>\n",
       "      <td>Female</td>\n",
       "      <td>31</td>\n",
       "    </tr>\n",
       "    <tr>\n",
       "      <th>1</th>\n",
       "      <td>A &amp; N Islands</td>\n",
       "      <td>0-14</td>\n",
       "      <td>Male</td>\n",
       "      <td>22</td>\n",
       "    </tr>\n",
       "    <tr>\n",
       "      <th>2</th>\n",
       "      <td>A &amp; N Islands</td>\n",
       "      <td>15-29</td>\n",
       "      <td>Female</td>\n",
       "      <td>298</td>\n",
       "    </tr>\n",
       "    <tr>\n",
       "      <th>3</th>\n",
       "      <td>A &amp; N Islands</td>\n",
       "      <td>15-29</td>\n",
       "      <td>Male</td>\n",
       "      <td>332</td>\n",
       "    </tr>\n",
       "    <tr>\n",
       "      <th>4</th>\n",
       "      <td>A &amp; N Islands</td>\n",
       "      <td>30-44</td>\n",
       "      <td>Female</td>\n",
       "      <td>133</td>\n",
       "    </tr>\n",
       "    <tr>\n",
       "      <th>...</th>\n",
       "      <td>...</td>\n",
       "      <td>...</td>\n",
       "      <td>...</td>\n",
       "      <td>...</td>\n",
       "    </tr>\n",
       "    <tr>\n",
       "      <th>338</th>\n",
       "      <td>West Bengal</td>\n",
       "      <td>30-44</td>\n",
       "      <td>Male</td>\n",
       "      <td>33553</td>\n",
       "    </tr>\n",
       "    <tr>\n",
       "      <th>339</th>\n",
       "      <td>West Bengal</td>\n",
       "      <td>45-59</td>\n",
       "      <td>Female</td>\n",
       "      <td>11964</td>\n",
       "    </tr>\n",
       "    <tr>\n",
       "      <th>340</th>\n",
       "      <td>West Bengal</td>\n",
       "      <td>45-59</td>\n",
       "      <td>Male</td>\n",
       "      <td>21450</td>\n",
       "    </tr>\n",
       "    <tr>\n",
       "      <th>341</th>\n",
       "      <td>West Bengal</td>\n",
       "      <td>60+</td>\n",
       "      <td>Female</td>\n",
       "      <td>3373</td>\n",
       "    </tr>\n",
       "    <tr>\n",
       "      <th>342</th>\n",
       "      <td>West Bengal</td>\n",
       "      <td>60+</td>\n",
       "      <td>Male</td>\n",
       "      <td>6126</td>\n",
       "    </tr>\n",
       "  </tbody>\n",
       "</table>\n",
       "<p>343 rows × 4 columns</p>\n",
       "</div>"
      ],
      "text/plain": [
       "             State Age_group  Gender  Total\n",
       "0    A & N Islands      0-14  Female     31\n",
       "1    A & N Islands      0-14    Male     22\n",
       "2    A & N Islands     15-29  Female    298\n",
       "3    A & N Islands     15-29    Male    332\n",
       "4    A & N Islands     30-44  Female    133\n",
       "..             ...       ...     ...    ...\n",
       "338    West Bengal     30-44    Male  33553\n",
       "339    West Bengal     45-59  Female  11964\n",
       "340    West Bengal     45-59    Male  21450\n",
       "341    West Bengal       60+  Female   3373\n",
       "342    West Bengal       60+    Male   6126\n",
       "\n",
       "[343 rows x 4 columns]"
      ]
     },
     "execution_count": 41,
     "metadata": {},
     "output_type": "execute_result"
    }
   ],
   "source": [
    "age_group_df"
   ]
  },
  {
   "cell_type": "code",
   "execution_count": 42,
   "metadata": {},
   "outputs": [],
   "source": [
    "temp=age_group_df[['Age_group','Total']]"
   ]
  },
  {
   "cell_type": "code",
   "execution_count": 43,
   "metadata": {},
   "outputs": [],
   "source": [
    "age_group_df=temp.groupby(['Age_group'])[['Total']].sum()"
   ]
  },
  {
   "cell_type": "code",
   "execution_count": 44,
   "metadata": {},
   "outputs": [],
   "source": [
    "age_group_df=age_group_df.reset_index()"
   ]
  },
  {
   "cell_type": "code",
   "execution_count": 45,
   "metadata": {},
   "outputs": [
    {
     "data": {
      "text/html": [
       "<div>\n",
       "<style scoped>\n",
       "    .dataframe tbody tr th:only-of-type {\n",
       "        vertical-align: middle;\n",
       "    }\n",
       "\n",
       "    .dataframe tbody tr th {\n",
       "        vertical-align: top;\n",
       "    }\n",
       "\n",
       "    .dataframe thead th {\n",
       "        text-align: right;\n",
       "    }\n",
       "</style>\n",
       "<table border=\"1\" class=\"dataframe\">\n",
       "  <thead>\n",
       "    <tr style=\"text-align: right;\">\n",
       "      <th></th>\n",
       "      <th>Age_group</th>\n",
       "      <th>Total</th>\n",
       "    </tr>\n",
       "  </thead>\n",
       "  <tbody>\n",
       "    <tr>\n",
       "      <th>0</th>\n",
       "      <td>0-14</td>\n",
       "      <td>32685</td>\n",
       "    </tr>\n",
       "    <tr>\n",
       "      <th>1</th>\n",
       "      <td>15-29</td>\n",
       "      <td>509776</td>\n",
       "    </tr>\n",
       "    <tr>\n",
       "      <th>2</th>\n",
       "      <td>30-44</td>\n",
       "      <td>488713</td>\n",
       "    </tr>\n",
       "    <tr>\n",
       "      <th>3</th>\n",
       "      <td>45-59</td>\n",
       "      <td>294333</td>\n",
       "    </tr>\n",
       "    <tr>\n",
       "      <th>4</th>\n",
       "      <td>60+</td>\n",
       "      <td>115467</td>\n",
       "    </tr>\n",
       "  </tbody>\n",
       "</table>\n",
       "</div>"
      ],
      "text/plain": [
       "  Age_group   Total\n",
       "0      0-14   32685\n",
       "1     15-29  509776\n",
       "2     30-44  488713\n",
       "3     45-59  294333\n",
       "4       60+  115467"
      ]
     },
     "execution_count": 45,
     "metadata": {},
     "output_type": "execute_result"
    }
   ],
   "source": [
    "age_group_df"
   ]
  },
  {
   "cell_type": "markdown",
   "metadata": {},
   "source": [
    "This is total deaths in all age groups from 2001 to 2012. Lets visulalize this pictorially."
   ]
  },
  {
   "cell_type": "code",
   "execution_count": 46,
   "metadata": {
    "scrolled": false
   },
   "outputs": [
    {
     "data": {
      "image/png": "[encoded data removed]",
      "text/plain": [
       "<Figure size 432x288 with 1 Axes>"
      ]
     },
     "metadata": {
      "needs_background": "light"
     },
     "output_type": "display_data"
    }
   ],
   "source": [
    "# Plotting a bar graph for various Age-groups\n",
    "plt.title('Suicides in Different age-groups')\n",
    "plt.bar(age_group_df.Age_group,age_group_df.Total, color='green');\n",
    "plt.xlabel('Age Groups')\n",
    "plt.ylabel('No. of Deaths ');"
   ]
  },
  {
   "cell_type": "markdown",
   "metadata": {},
   "source": [
    "So, we come to the conclusion that **least number of deaths is between the age group 0-14 and 60+.**\n",
    "\n",
    "**Highest number of deaths is between age group 15-29 and 30-44.** This age-group indeed suggest that it is young people who are committing most number of suicides."
   ]
  },
  {
   "cell_type": "markdown",
   "metadata": {},
   "source": [
    "**Lets observe the percentage wise deaths in different Age-groups**"
   ]
  },
  {
   "cell_type": "code",
   "execution_count": 56,
   "metadata": {},
   "outputs": [],
   "source": [
    "ax1.pie?"
   ]
  },
  {
   "cell_type": "code",
   "execution_count": 55,
   "metadata": {},
   "outputs": [
    {
     "data": {
      "image/png": "[encoded data removed]",
      "text/plain": [
       "<Figure size 504x504 with 1 Axes>"
      ]
     },
     "metadata": {},
     "output_type": "display_data"
    }
   ],
   "source": [
    "# Pie chart, where the slices will be ordered and plotted counter-clockwise:\n",
    "labels = ['0-14', '15-29', '30-44', '45-59','60+']\n",
    "fig1,ax1 = plt.subplots()\n",
    "ax1.pie(age_group_df.Total,labels=labels,shadow=True, startangle=90,autopct='%1.1f%%')\n",
    "ax1.axis('equal')  # Equal aspect ratio ensures that pie is drawn as a circle.\n",
    "plt.title('Percentage of suicide among various age-groups',fontsize=14)\n",
    "#  Increase the size of the Pie chart\n",
    "fig = plt.gcf()\n",
    "fig.set_size_inches(7,7)\n",
    "plt.show();"
   ]
  },
  {
   "cell_type": "markdown",
   "metadata": {},
   "source": [
    "**Observe again that more than 69% of the suicides are done by the age-group between 15 to 44,** and amongst that most by individuals in their **teens and twenties**."
   ]
  },
  {
   "cell_type": "markdown",
   "metadata": {},
   "source": [
    "**Plotting a heatmap for the same observation for different years and different age-groups**"
   ]
  },
  {
   "cell_type": "code",
   "execution_count": 172,
   "metadata": {},
   "outputs": [],
   "source": [
    "#Groupby using Year and Age-group and aggregate by 'Total'\n",
    "age_wise_df=ind_suicide_df.groupby(['Year','Age_group'])[['Total']].sum()"
   ]
  },
  {
   "cell_type": "code",
   "execution_count": 173,
   "metadata": {
    "scrolled": false
   },
   "outputs": [],
   "source": [
    "age_wise_df=age_wise_df.reset_index()"
   ]
  },
  {
   "cell_type": "code",
   "execution_count": 174,
   "metadata": {},
   "outputs": [],
   "source": [
    "age_wise_df=age_wise_df[age_wise_df.Age_group!='0-100+']"
   ]
  },
  {
   "cell_type": "code",
   "execution_count": 192,
   "metadata": {},
   "outputs": [],
   "source": [
    "# Setting up pivot for the 2d-array\n",
    "new_age_wise=age_wise_df.pivot(index='Age_group',columns='Year',values='Total')"
   ]
  },
  {
   "cell_type": "code",
   "execution_count": 183,
   "metadata": {},
   "outputs": [
    {
     "data": {
      "text/html": [
       "<div>\n",
       "<style scoped>\n",
       "    .dataframe tbody tr th:only-of-type {\n",
       "        vertical-align: middle;\n",
       "    }\n",
       "\n",
       "    .dataframe tbody tr th {\n",
       "        vertical-align: top;\n",
       "    }\n",
       "\n",
       "    .dataframe thead th {\n",
       "        text-align: right;\n",
       "    }\n",
       "</style>\n",
       "<table border=\"1\" class=\"dataframe\">\n",
       "  <thead>\n",
       "    <tr style=\"text-align: right;\">\n",
       "      <th>Year</th>\n",
       "      <th>2001</th>\n",
       "      <th>2002</th>\n",
       "      <th>2003</th>\n",
       "      <th>2004</th>\n",
       "      <th>2005</th>\n",
       "      <th>2006</th>\n",
       "      <th>2007</th>\n",
       "      <th>2008</th>\n",
       "      <th>2009</th>\n",
       "      <th>2010</th>\n",
       "      <th>2011</th>\n",
       "      <th>2012</th>\n",
       "    </tr>\n",
       "    <tr>\n",
       "      <th>Age_group</th>\n",
       "      <th></th>\n",
       "      <th></th>\n",
       "      <th></th>\n",
       "      <th></th>\n",
       "      <th></th>\n",
       "      <th></th>\n",
       "      <th></th>\n",
       "      <th></th>\n",
       "      <th></th>\n",
       "      <th></th>\n",
       "      <th></th>\n",
       "      <th></th>\n",
       "    </tr>\n",
       "  </thead>\n",
       "  <tbody>\n",
       "    <tr>\n",
       "      <th>0-14</th>\n",
       "      <td>9010</td>\n",
       "      <td>8632</td>\n",
       "      <td>7728</td>\n",
       "      <td>8733</td>\n",
       "      <td>7665</td>\n",
       "      <td>7389</td>\n",
       "      <td>7410</td>\n",
       "      <td>7143</td>\n",
       "      <td>8851</td>\n",
       "      <td>9390</td>\n",
       "      <td>9096</td>\n",
       "      <td>7363</td>\n",
       "    </tr>\n",
       "    <tr>\n",
       "      <th>15-29</th>\n",
       "      <td>116655</td>\n",
       "      <td>117864</td>\n",
       "      <td>119483</td>\n",
       "      <td>120407</td>\n",
       "      <td>120701</td>\n",
       "      <td>126640</td>\n",
       "      <td>129477</td>\n",
       "      <td>133955</td>\n",
       "      <td>131745</td>\n",
       "      <td>142867</td>\n",
       "      <td>144037</td>\n",
       "      <td>130206</td>\n",
       "    </tr>\n",
       "    <tr>\n",
       "      <th>30-44</th>\n",
       "      <td>109344</td>\n",
       "      <td>112529</td>\n",
       "      <td>111042</td>\n",
       "      <td>114872</td>\n",
       "      <td>114548</td>\n",
       "      <td>122097</td>\n",
       "      <td>125475</td>\n",
       "      <td>130676</td>\n",
       "      <td>130452</td>\n",
       "      <td>134534</td>\n",
       "      <td>138640</td>\n",
       "      <td>127390</td>\n",
       "    </tr>\n",
       "    <tr>\n",
       "      <th>45-59</th>\n",
       "      <td>64737</td>\n",
       "      <td>65482</td>\n",
       "      <td>66991</td>\n",
       "      <td>69400</td>\n",
       "      <td>70874</td>\n",
       "      <td>70815</td>\n",
       "      <td>76699</td>\n",
       "      <td>75574</td>\n",
       "      <td>79808</td>\n",
       "      <td>83618</td>\n",
       "      <td>81876</td>\n",
       "      <td>79303</td>\n",
       "    </tr>\n",
       "    <tr>\n",
       "      <th>60+</th>\n",
       "      <td>25682</td>\n",
       "      <td>26639</td>\n",
       "      <td>27272</td>\n",
       "      <td>27543</td>\n",
       "      <td>27929</td>\n",
       "      <td>27378</td>\n",
       "      <td>28784</td>\n",
       "      <td>27632</td>\n",
       "      <td>30271</td>\n",
       "      <td>33319</td>\n",
       "      <td>32340</td>\n",
       "      <td>32136</td>\n",
       "    </tr>\n",
       "  </tbody>\n",
       "</table>\n",
       "</div>"
      ],
      "text/plain": [
       "Year         2001    2002    2003    2004    2005    2006    2007    2008  \\\n",
       "Age_group                                                                   \n",
       "0-14         9010    8632    7728    8733    7665    7389    7410    7143   \n",
       "15-29      116655  117864  119483  120407  120701  126640  129477  133955   \n",
       "30-44      109344  112529  111042  114872  114548  122097  125475  130676   \n",
       "45-59       64737   65482   66991   69400   70874   70815   76699   75574   \n",
       "60+         25682   26639   27272   27543   27929   27378   28784   27632   \n",
       "\n",
       "Year         2009    2010    2011    2012  \n",
       "Age_group                                  \n",
       "0-14         8851    9390    9096    7363  \n",
       "15-29      131745  142867  144037  130206  \n",
       "30-44      130452  134534  138640  127390  \n",
       "45-59       79808   83618   81876   79303  \n",
       "60+         30271   33319   32340   32136  "
      ]
     },
     "execution_count": 183,
     "metadata": {},
     "output_type": "execute_result"
    }
   ],
   "source": [
    "new_age_wise"
   ]
  },
  {
   "cell_type": "code",
   "execution_count": 191,
   "metadata": {},
   "outputs": [
    {
     "data": {
      "image/png": "[encoded data removed]",
      "text/plain": [
       "<Figure size 864x576 with 2 Axes>"
      ]
     },
     "metadata": {
      "needs_background": "light"
     },
     "output_type": "display_data"
    }
   ],
   "source": [
    "#Plotting using Heat map\n",
    "plt.figure(figsize=(12,8))\n",
    "sns.heatmap(new_age_wise,cmap='rocket_r');\n",
    "plt.title('Total Suicides in various Age groups',fontsize=14)\n",
    "plt.xlabel('Year',fontsize=14)\n",
    "plt.ylabel('Age-group',fontsize=14);"
   ]
  },
  {
   "cell_type": "markdown",
   "metadata": {},
   "source": [
    "As observed from the heatmap , that the middle slices which is age-group 15-44 has maximum number of suicides and it is also increasing every year."
   ]
  },
  {
   "cell_type": "markdown",
   "metadata": {},
   "source": [
    "## Q5. What are the main causes of suicides?"
   ]
  },
  {
   "cell_type": "markdown",
   "metadata": {},
   "source": [
    "Lets look at the main causes of suicides. This might help in addressing this issue in general."
   ]
  },
  {
   "cell_type": "markdown",
   "metadata": {},
   "source": [
    "We first look all possible causes listed in this dataset."
   ]
  },
  {
   "cell_type": "code",
   "execution_count": 91,
   "metadata": {
    "scrolled": false
   },
   "outputs": [
    {
     "data": {
      "text/plain": [
       "array(['Love Affairs', 'Other Causes (Please Specity)',\n",
       "       'Other Prolonged Illness', 'Failure in Examination',\n",
       "       'Causes Not known', 'Family Problems', 'Insanity/Mental Illness',\n",
       "       'Death of Dear Person', 'Unemployment',\n",
       "       'Fall in Social Reputation', 'Suspected/Illicit Relation',\n",
       "       'Cancellation/Non-Settlement of Marriage',\n",
       "       'Not having Children(Barrenness/Impotency', 'Poverty',\n",
       "       'Professional/Career Problem', 'Paralysis',\n",
       "       'Bankruptcy or Sudden change in Economic', 'Divorce', 'Cancer',\n",
       "       'Property Dispute', 'Illness (Aids/STD)',\n",
       "       'Physical Abuse (Rape/Incest Etc.)', 'Drug Abuse/Addiction',\n",
       "       'Ideological Causes/Hero Worshipping', 'Dowry Dispute',\n",
       "       'Illegitimate Pregnancy',\n",
       "       'Bankruptcy or Sudden change in Economic Status',\n",
       "       'Not having Children (Barrenness/Impotency'], dtype=object)"
      ]
     },
     "execution_count": 91,
     "metadata": {},
     "output_type": "execute_result"
    }
   ],
   "source": [
    "ind_suicide_df['Type'].unique()"
   ]
  },
  {
   "cell_type": "markdown",
   "metadata": {},
   "source": [
    "There are lot of causes listed but we can group some of them together to analyze and have a short list of causes. For example, *Other Prolonged Illness, Illness (Aids/STD), Cancer , Insanity* can be grouped into a cause with named **Illness**. Similarly, we can group Family Problems, Marriage Issues, Professional Problems etc."
   ]
  },
  {
   "cell_type": "markdown",
   "metadata": {},
   "source": [
    "I have considered here the following major cause of suicides and grouped them together as discussed above. The updated causes are **Family Problems, Illness, Exam/Unemployment, Love Affairs, Career Problem, Poverty, and Drug Abuse.**"
   ]
  },
  {
   "cell_type": "code",
   "execution_count": 57,
   "metadata": {},
   "outputs": [
    {
     "data": {
      "text/html": [
       "<div>\n",
       "<style scoped>\n",
       "    .dataframe tbody tr th:only-of-type {\n",
       "        vertical-align: middle;\n",
       "    }\n",
       "\n",
       "    .dataframe tbody tr th {\n",
       "        vertical-align: top;\n",
       "    }\n",
       "\n",
       "    .dataframe thead th {\n",
       "        text-align: right;\n",
       "    }\n",
       "</style>\n",
       "<table border=\"1\" class=\"dataframe\">\n",
       "  <thead>\n",
       "    <tr style=\"text-align: right;\">\n",
       "      <th></th>\n",
       "      <th>State</th>\n",
       "      <th>Year</th>\n",
       "      <th>Type_code</th>\n",
       "      <th>Type</th>\n",
       "      <th>Gender</th>\n",
       "      <th>Age_group</th>\n",
       "      <th>Total</th>\n",
       "    </tr>\n",
       "  </thead>\n",
       "  <tbody>\n",
       "    <tr>\n",
       "      <th>13</th>\n",
       "      <td>A &amp; N Islands</td>\n",
       "      <td>2001</td>\n",
       "      <td>Causes</td>\n",
       "      <td>Love Affairs</td>\n",
       "      <td>Female</td>\n",
       "      <td>0-14</td>\n",
       "      <td>1</td>\n",
       "    </tr>\n",
       "    <tr>\n",
       "      <th>20</th>\n",
       "      <td>A &amp; N Islands</td>\n",
       "      <td>2001</td>\n",
       "      <td>Causes</td>\n",
       "      <td>Other Causes (Please Specity)</td>\n",
       "      <td>Female</td>\n",
       "      <td>0-14</td>\n",
       "      <td>1</td>\n",
       "    </tr>\n",
       "    <tr>\n",
       "      <th>32</th>\n",
       "      <td>A &amp; N Islands</td>\n",
       "      <td>2001</td>\n",
       "      <td>Causes</td>\n",
       "      <td>Other Prolonged Illness</td>\n",
       "      <td>Male</td>\n",
       "      <td>0-14</td>\n",
       "      <td>1</td>\n",
       "    </tr>\n",
       "    <tr>\n",
       "      <th>47</th>\n",
       "      <td>A &amp; N Islands</td>\n",
       "      <td>2001</td>\n",
       "      <td>Causes</td>\n",
       "      <td>Failure in Examination</td>\n",
       "      <td>Male</td>\n",
       "      <td>0-14</td>\n",
       "      <td>1</td>\n",
       "    </tr>\n",
       "    <tr>\n",
       "      <th>54</th>\n",
       "      <td>A &amp; N Islands</td>\n",
       "      <td>2001</td>\n",
       "      <td>Causes</td>\n",
       "      <td>Other Prolonged Illness</td>\n",
       "      <td>Female</td>\n",
       "      <td>15-29</td>\n",
       "      <td>8</td>\n",
       "    </tr>\n",
       "    <tr>\n",
       "      <th>...</th>\n",
       "      <td>...</td>\n",
       "      <td>...</td>\n",
       "      <td>...</td>\n",
       "      <td>...</td>\n",
       "      <td>...</td>\n",
       "      <td>...</td>\n",
       "      <td>...</td>\n",
       "    </tr>\n",
       "    <tr>\n",
       "      <th>236650</th>\n",
       "      <td>West Bengal</td>\n",
       "      <td>2011</td>\n",
       "      <td>Causes</td>\n",
       "      <td>Other Prolonged Illness</td>\n",
       "      <td>Male</td>\n",
       "      <td>60+</td>\n",
       "      <td>41</td>\n",
       "    </tr>\n",
       "    <tr>\n",
       "      <th>236651</th>\n",
       "      <td>West Bengal</td>\n",
       "      <td>2011</td>\n",
       "      <td>Causes</td>\n",
       "      <td>Fall in Social Reputation</td>\n",
       "      <td>Male</td>\n",
       "      <td>60+</td>\n",
       "      <td>3</td>\n",
       "    </tr>\n",
       "    <tr>\n",
       "      <th>236652</th>\n",
       "      <td>West Bengal</td>\n",
       "      <td>2011</td>\n",
       "      <td>Causes</td>\n",
       "      <td>Insanity/Mental Illness</td>\n",
       "      <td>Male</td>\n",
       "      <td>60+</td>\n",
       "      <td>35</td>\n",
       "    </tr>\n",
       "    <tr>\n",
       "      <th>236653</th>\n",
       "      <td>West Bengal</td>\n",
       "      <td>2011</td>\n",
       "      <td>Causes</td>\n",
       "      <td>Other Causes (Please Specity)</td>\n",
       "      <td>Male</td>\n",
       "      <td>60+</td>\n",
       "      <td>136</td>\n",
       "    </tr>\n",
       "    <tr>\n",
       "      <th>236655</th>\n",
       "      <td>West Bengal</td>\n",
       "      <td>2011</td>\n",
       "      <td>Causes</td>\n",
       "      <td>Drug Abuse/Addiction</td>\n",
       "      <td>Male</td>\n",
       "      <td>60+</td>\n",
       "      <td>13</td>\n",
       "    </tr>\n",
       "  </tbody>\n",
       "</table>\n",
       "<p>39531 rows × 7 columns</p>\n",
       "</div>"
      ],
      "text/plain": [
       "                State  Year Type_code                           Type  Gender  \\\n",
       "13      A & N Islands  2001    Causes                   Love Affairs  Female   \n",
       "20      A & N Islands  2001    Causes  Other Causes (Please Specity)  Female   \n",
       "32      A & N Islands  2001    Causes        Other Prolonged Illness    Male   \n",
       "47      A & N Islands  2001    Causes         Failure in Examination    Male   \n",
       "54      A & N Islands  2001    Causes        Other Prolonged Illness  Female   \n",
       "...               ...   ...       ...                            ...     ...   \n",
       "236650    West Bengal  2011    Causes        Other Prolonged Illness    Male   \n",
       "236651    West Bengal  2011    Causes      Fall in Social Reputation    Male   \n",
       "236652    West Bengal  2011    Causes        Insanity/Mental Illness    Male   \n",
       "236653    West Bengal  2011    Causes  Other Causes (Please Specity)    Male   \n",
       "236655    West Bengal  2011    Causes           Drug Abuse/Addiction    Male   \n",
       "\n",
       "       Age_group  Total  \n",
       "13          0-14      1  \n",
       "20          0-14      1  \n",
       "32          0-14      1  \n",
       "47          0-14      1  \n",
       "54         15-29      8  \n",
       "...          ...    ...  \n",
       "236650       60+     41  \n",
       "236651       60+      3  \n",
       "236652       60+     35  \n",
       "236653       60+    136  \n",
       "236655       60+     13  \n",
       "\n",
       "[39531 rows x 7 columns]"
      ]
     },
     "execution_count": 57,
     "metadata": {},
     "output_type": "execute_result"
    }
   ],
   "source": [
    "ind_suicide_df"
   ]
  },
  {
   "cell_type": "code",
   "execution_count": 92,
   "metadata": {},
   "outputs": [],
   "source": [
    "# Just keeping Type column and Total\n",
    "suicide_causes_df=ind_suicide_df.groupby(['Type'])[['Total']].sum()"
   ]
  },
  {
   "cell_type": "code",
   "execution_count": 93,
   "metadata": {},
   "outputs": [],
   "source": [
    "# Getting the columns back after groupby\n",
    "suicide_causes_df=suicide_causes_df.reset_index()"
   ]
  },
  {
   "cell_type": "code",
   "execution_count": 94,
   "metadata": {},
   "outputs": [
    {
     "data": {
      "text/html": [
       "<div>\n",
       "<style scoped>\n",
       "    .dataframe tbody tr th:only-of-type {\n",
       "        vertical-align: middle;\n",
       "    }\n",
       "\n",
       "    .dataframe tbody tr th {\n",
       "        vertical-align: top;\n",
       "    }\n",
       "\n",
       "    .dataframe thead th {\n",
       "        text-align: right;\n",
       "    }\n",
       "</style>\n",
       "<table border=\"1\" class=\"dataframe\">\n",
       "  <thead>\n",
       "    <tr style=\"text-align: right;\">\n",
       "      <th></th>\n",
       "      <th>Type</th>\n",
       "      <th>Total</th>\n",
       "    </tr>\n",
       "  </thead>\n",
       "  <tbody>\n",
       "    <tr>\n",
       "      <th>0</th>\n",
       "      <td>Bankruptcy or Sudden change in Economic</td>\n",
       "      <td>32755</td>\n",
       "    </tr>\n",
       "    <tr>\n",
       "      <th>1</th>\n",
       "      <td>Bankruptcy or Sudden change in Economic Status</td>\n",
       "      <td>2655</td>\n",
       "    </tr>\n",
       "    <tr>\n",
       "      <th>2</th>\n",
       "      <td>Cancellation/Non-Settlement of Marriage</td>\n",
       "      <td>11296</td>\n",
       "    </tr>\n",
       "    <tr>\n",
       "      <th>3</th>\n",
       "      <td>Cancer</td>\n",
       "      <td>9058</td>\n",
       "    </tr>\n",
       "    <tr>\n",
       "      <th>4</th>\n",
       "      <td>Causes Not known</td>\n",
       "      <td>237069</td>\n",
       "    </tr>\n",
       "    <tr>\n",
       "      <th>5</th>\n",
       "      <td>Death of Dear Person</td>\n",
       "      <td>10321</td>\n",
       "    </tr>\n",
       "    <tr>\n",
       "      <th>6</th>\n",
       "      <td>Divorce</td>\n",
       "      <td>4133</td>\n",
       "    </tr>\n",
       "    <tr>\n",
       "      <th>7</th>\n",
       "      <td>Dowry Dispute</td>\n",
       "      <td>31970</td>\n",
       "    </tr>\n",
       "    <tr>\n",
       "      <th>8</th>\n",
       "      <td>Drug Abuse/Addiction</td>\n",
       "      <td>30046</td>\n",
       "    </tr>\n",
       "    <tr>\n",
       "      <th>9</th>\n",
       "      <td>Failure in Examination</td>\n",
       "      <td>27005</td>\n",
       "    </tr>\n",
       "    <tr>\n",
       "      <th>10</th>\n",
       "      <td>Fall in Social Reputation</td>\n",
       "      <td>13464</td>\n",
       "    </tr>\n",
       "    <tr>\n",
       "      <th>11</th>\n",
       "      <td>Family Problems</td>\n",
       "      <td>341952</td>\n",
       "    </tr>\n",
       "    <tr>\n",
       "      <th>12</th>\n",
       "      <td>Ideological Causes/Hero Worshipping</td>\n",
       "      <td>2118</td>\n",
       "    </tr>\n",
       "    <tr>\n",
       "      <th>13</th>\n",
       "      <td>Illegitimate Pregnancy</td>\n",
       "      <td>2494</td>\n",
       "    </tr>\n",
       "    <tr>\n",
       "      <th>14</th>\n",
       "      <td>Illness (Aids/STD)</td>\n",
       "      <td>8723</td>\n",
       "    </tr>\n",
       "    <tr>\n",
       "      <th>15</th>\n",
       "      <td>Insanity/Mental Illness</td>\n",
       "      <td>94229</td>\n",
       "    </tr>\n",
       "    <tr>\n",
       "      <th>16</th>\n",
       "      <td>Love Affairs</td>\n",
       "      <td>45039</td>\n",
       "    </tr>\n",
       "    <tr>\n",
       "      <th>17</th>\n",
       "      <td>Not having Children (Barrenness/Impotency</td>\n",
       "      <td>766</td>\n",
       "    </tr>\n",
       "    <tr>\n",
       "      <th>18</th>\n",
       "      <td>Not having Children(Barrenness/Impotency</td>\n",
       "      <td>7822</td>\n",
       "    </tr>\n",
       "    <tr>\n",
       "      <th>19</th>\n",
       "      <td>Other Causes (Please Specity)</td>\n",
       "      <td>216050</td>\n",
       "    </tr>\n",
       "    <tr>\n",
       "      <th>20</th>\n",
       "      <td>Other Prolonged Illness</td>\n",
       "      <td>194565</td>\n",
       "    </tr>\n",
       "    <tr>\n",
       "      <th>21</th>\n",
       "      <td>Paralysis</td>\n",
       "      <td>7286</td>\n",
       "    </tr>\n",
       "    <tr>\n",
       "      <th>22</th>\n",
       "      <td>Physical Abuse (Rape/Incest Etc.)</td>\n",
       "      <td>3992</td>\n",
       "    </tr>\n",
       "    <tr>\n",
       "      <th>23</th>\n",
       "      <td>Poverty</td>\n",
       "      <td>32684</td>\n",
       "    </tr>\n",
       "    <tr>\n",
       "      <th>24</th>\n",
       "      <td>Professional/Career Problem</td>\n",
       "      <td>12554</td>\n",
       "    </tr>\n",
       "    <tr>\n",
       "      <th>25</th>\n",
       "      <td>Property Dispute</td>\n",
       "      <td>18652</td>\n",
       "    </tr>\n",
       "    <tr>\n",
       "      <th>26</th>\n",
       "      <td>Suspected/Illicit Relation</td>\n",
       "      <td>14911</td>\n",
       "    </tr>\n",
       "    <tr>\n",
       "      <th>27</th>\n",
       "      <td>Unemployment</td>\n",
       "      <td>27365</td>\n",
       "    </tr>\n",
       "  </tbody>\n",
       "</table>\n",
       "</div>"
      ],
      "text/plain": [
       "                                              Type   Total\n",
       "0          Bankruptcy or Sudden change in Economic   32755\n",
       "1   Bankruptcy or Sudden change in Economic Status    2655\n",
       "2          Cancellation/Non-Settlement of Marriage   11296\n",
       "3                                           Cancer    9058\n",
       "4                                 Causes Not known  237069\n",
       "5                             Death of Dear Person   10321\n",
       "6                                          Divorce    4133\n",
       "7                                    Dowry Dispute   31970\n",
       "8                             Drug Abuse/Addiction   30046\n",
       "9                           Failure in Examination   27005\n",
       "10                       Fall in Social Reputation   13464\n",
       "11                                 Family Problems  341952\n",
       "12             Ideological Causes/Hero Worshipping    2118\n",
       "13                          Illegitimate Pregnancy    2494\n",
       "14                              Illness (Aids/STD)    8723\n",
       "15                         Insanity/Mental Illness   94229\n",
       "16                                    Love Affairs   45039\n",
       "17       Not having Children (Barrenness/Impotency     766\n",
       "18        Not having Children(Barrenness/Impotency    7822\n",
       "19                   Other Causes (Please Specity)  216050\n",
       "20                         Other Prolonged Illness  194565\n",
       "21                                       Paralysis    7286\n",
       "22               Physical Abuse (Rape/Incest Etc.)    3992\n",
       "23                                         Poverty   32684\n",
       "24                     Professional/Career Problem   12554\n",
       "25                                Property Dispute   18652\n",
       "26                      Suspected/Illicit Relation   14911\n",
       "27                                    Unemployment   27365"
      ]
     },
     "execution_count": 94,
     "metadata": {},
     "output_type": "execute_result"
    }
   ],
   "source": [
    "#suicide_causes_df"
   ]
  },
  {
   "cell_type": "code",
   "execution_count": 95,
   "metadata": {},
   "outputs": [],
   "source": [
    "# Create a copy\n",
    "suicide_causes_copy=suicide_causes_df.copy()"
   ]
  },
  {
   "cell_type": "markdown",
   "metadata": {},
   "source": [
    "Below we group various causes into one updating into 7 most common cause as listed above."
   ]
  },
  {
   "cell_type": "code",
   "execution_count": 97,
   "metadata": {},
   "outputs": [],
   "source": [
    "# Update list of family problems\n",
    "Family_problems=['Death of Dear Person','Dowry Dispute','Not having Children (Barrenness/Impotency']\n",
    "for i in range(28):\n",
    "    if suicide_causes_copy.at[i,'Type'] in Family_problems:\n",
    "        suicide_causes_copy.at[i,'Type']='Family Problems'"
   ]
  },
  {
   "cell_type": "code",
   "execution_count": 98,
   "metadata": {},
   "outputs": [],
   "source": [
    "# Update List of Illness\n",
    "illness=['Cancer','Illness (Aids/STD)', 'Insanity/Mental Illness', 'Other Prolonged Illness', 'Paralysis']\n",
    "for i in range(28):\n",
    "    if suicide_causes_copy.at[i,'Type'] in illness:\n",
    "        suicide_causes_copy.at[i,'Type']='Illness'"
   ]
  },
  {
   "cell_type": "code",
   "execution_count": 115,
   "metadata": {},
   "outputs": [],
   "source": [
    "# Career Problem, Drug Abuse, Exam/Unemployment and setting unknown causes value to 0\n",
    "for i in range(28):\n",
    "    if suicide_causes_copy.at[i,'Type'] == 'Professional/Career Problem':\n",
    "        suicide_causes_copy.at[i,'Type']='Career Problem'\n",
    "    if suicide_causes_copy.at[i,'Type'] == 'Drug Abuse/Addiction':\n",
    "        suicide_causes_copy.at[i,'Type']='Drug Abuse'\n",
    "    if suicide_causes_copy.at[i,'Type'] in ['Failure in Examination', 'Unemployment']:\n",
    "        suicide_causes_copy.at[i,'Type']='Exam/Unemployment'\n",
    "    if suicide_causes_copy.at[i,'Type'] =='Other Causes (Please Specity)':\n",
    "        suicide_causes_copy.at[i,'Total']=0\n",
    "    if suicide_causes_copy.at[i,'Type'] =='Causes Not known':\n",
    "        suicide_causes_copy.at[i,'Total']=0\n",
    "    if suicide_causes_copy.at[i,'Type'] =='Bankruptcy or Sudden change in Economic':\n",
    "        suicide_causes_copy.at[i,'Type']= 'Economic Reason'\n",
    "    "
   ]
  },
  {
   "cell_type": "code",
   "execution_count": 116,
   "metadata": {},
   "outputs": [],
   "source": [
    "# Group by using newly updated types and aggregate using Total\n",
    "suicide_causes=suicide_causes_copy.groupby('Type')[['Total']].sum()\n",
    "suicide_causes=suicide_causes.reset_index()"
   ]
  },
  {
   "cell_type": "code",
   "execution_count": 117,
   "metadata": {
    "scrolled": true
   },
   "outputs": [
    {
     "data": {
      "text/html": [
       "<div>\n",
       "<style scoped>\n",
       "    .dataframe tbody tr th:only-of-type {\n",
       "        vertical-align: middle;\n",
       "    }\n",
       "\n",
       "    .dataframe tbody tr th {\n",
       "        vertical-align: top;\n",
       "    }\n",
       "\n",
       "    .dataframe thead th {\n",
       "        text-align: right;\n",
       "    }\n",
       "</style>\n",
       "<table border=\"1\" class=\"dataframe\">\n",
       "  <thead>\n",
       "    <tr style=\"text-align: right;\">\n",
       "      <th></th>\n",
       "      <th>Type</th>\n",
       "      <th>Total</th>\n",
       "    </tr>\n",
       "  </thead>\n",
       "  <tbody>\n",
       "    <tr>\n",
       "      <th>0</th>\n",
       "      <td>Bankruptcy or Sudden change in Economic Status</td>\n",
       "      <td>2655</td>\n",
       "    </tr>\n",
       "    <tr>\n",
       "      <th>1</th>\n",
       "      <td>Cancellation/Non-Settlement of Marriage</td>\n",
       "      <td>11296</td>\n",
       "    </tr>\n",
       "    <tr>\n",
       "      <th>2</th>\n",
       "      <td>Career Problem</td>\n",
       "      <td>12554</td>\n",
       "    </tr>\n",
       "    <tr>\n",
       "      <th>3</th>\n",
       "      <td>Causes Not known</td>\n",
       "      <td>0</td>\n",
       "    </tr>\n",
       "    <tr>\n",
       "      <th>4</th>\n",
       "      <td>Divorce</td>\n",
       "      <td>4133</td>\n",
       "    </tr>\n",
       "    <tr>\n",
       "      <th>5</th>\n",
       "      <td>Drug Abuse</td>\n",
       "      <td>30046</td>\n",
       "    </tr>\n",
       "    <tr>\n",
       "      <th>6</th>\n",
       "      <td>Economic Reason</td>\n",
       "      <td>32755</td>\n",
       "    </tr>\n",
       "    <tr>\n",
       "      <th>7</th>\n",
       "      <td>Exam/Unemployment</td>\n",
       "      <td>54370</td>\n",
       "    </tr>\n",
       "    <tr>\n",
       "      <th>8</th>\n",
       "      <td>Fall in Social Reputation</td>\n",
       "      <td>13464</td>\n",
       "    </tr>\n",
       "    <tr>\n",
       "      <th>9</th>\n",
       "      <td>Family Problems</td>\n",
       "      <td>385009</td>\n",
       "    </tr>\n",
       "    <tr>\n",
       "      <th>10</th>\n",
       "      <td>Ideological Causes/Hero Worshipping</td>\n",
       "      <td>2118</td>\n",
       "    </tr>\n",
       "    <tr>\n",
       "      <th>11</th>\n",
       "      <td>Illegitimate Pregnancy</td>\n",
       "      <td>2494</td>\n",
       "    </tr>\n",
       "    <tr>\n",
       "      <th>12</th>\n",
       "      <td>Illness</td>\n",
       "      <td>313861</td>\n",
       "    </tr>\n",
       "    <tr>\n",
       "      <th>13</th>\n",
       "      <td>Love Affairs</td>\n",
       "      <td>45039</td>\n",
       "    </tr>\n",
       "    <tr>\n",
       "      <th>14</th>\n",
       "      <td>Not having Children(Barrenness/Impotency</td>\n",
       "      <td>7822</td>\n",
       "    </tr>\n",
       "    <tr>\n",
       "      <th>15</th>\n",
       "      <td>Other Causes (Please Specity)</td>\n",
       "      <td>0</td>\n",
       "    </tr>\n",
       "    <tr>\n",
       "      <th>16</th>\n",
       "      <td>Physical Abuse (Rape/Incest Etc.)</td>\n",
       "      <td>3992</td>\n",
       "    </tr>\n",
       "    <tr>\n",
       "      <th>17</th>\n",
       "      <td>Poverty</td>\n",
       "      <td>32684</td>\n",
       "    </tr>\n",
       "    <tr>\n",
       "      <th>18</th>\n",
       "      <td>Property Dispute</td>\n",
       "      <td>18652</td>\n",
       "    </tr>\n",
       "    <tr>\n",
       "      <th>19</th>\n",
       "      <td>Suspected/Illicit Relation</td>\n",
       "      <td>14911</td>\n",
       "    </tr>\n",
       "  </tbody>\n",
       "</table>\n",
       "</div>"
      ],
      "text/plain": [
       "                                              Type   Total\n",
       "0   Bankruptcy or Sudden change in Economic Status    2655\n",
       "1          Cancellation/Non-Settlement of Marriage   11296\n",
       "2                                   Career Problem   12554\n",
       "3                                 Causes Not known       0\n",
       "4                                          Divorce    4133\n",
       "5                                       Drug Abuse   30046\n",
       "6                                  Economic Reason   32755\n",
       "7                                Exam/Unemployment   54370\n",
       "8                        Fall in Social Reputation   13464\n",
       "9                                  Family Problems  385009\n",
       "10             Ideological Causes/Hero Worshipping    2118\n",
       "11                          Illegitimate Pregnancy    2494\n",
       "12                                         Illness  313861\n",
       "13                                    Love Affairs   45039\n",
       "14        Not having Children(Barrenness/Impotency    7822\n",
       "15                   Other Causes (Please Specity)       0\n",
       "16               Physical Abuse (Rape/Incest Etc.)    3992\n",
       "17                                         Poverty   32684\n",
       "18                                Property Dispute   18652\n",
       "19                      Suspected/Illicit Relation   14911"
      ]
     },
     "execution_count": 117,
     "metadata": {},
     "output_type": "execute_result"
    }
   ],
   "source": [
    "suicide_causes"
   ]
  },
  {
   "cell_type": "markdown",
   "metadata": {},
   "source": [
    "Above are the number of deaths and their causes. We will visualize graphically top causes of deaths."
   ]
  },
  {
   "cell_type": "code",
   "execution_count": 118,
   "metadata": {},
   "outputs": [],
   "source": [
    "suicide_causes=suicide_causes.sort_values('Total',ascending=False).head(7)"
   ]
  },
  {
   "cell_type": "code",
   "execution_count": 119,
   "metadata": {
    "scrolled": true
   },
   "outputs": [
    {
     "data": {
      "text/html": [
       "<div>\n",
       "<style scoped>\n",
       "    .dataframe tbody tr th:only-of-type {\n",
       "        vertical-align: middle;\n",
       "    }\n",
       "\n",
       "    .dataframe tbody tr th {\n",
       "        vertical-align: top;\n",
       "    }\n",
       "\n",
       "    .dataframe thead th {\n",
       "        text-align: right;\n",
       "    }\n",
       "</style>\n",
       "<table border=\"1\" class=\"dataframe\">\n",
       "  <thead>\n",
       "    <tr style=\"text-align: right;\">\n",
       "      <th></th>\n",
       "      <th>Type</th>\n",
       "      <th>Total</th>\n",
       "    </tr>\n",
       "  </thead>\n",
       "  <tbody>\n",
       "    <tr>\n",
       "      <th>9</th>\n",
       "      <td>Family Problems</td>\n",
       "      <td>385009</td>\n",
       "    </tr>\n",
       "    <tr>\n",
       "      <th>12</th>\n",
       "      <td>Illness</td>\n",
       "      <td>313861</td>\n",
       "    </tr>\n",
       "    <tr>\n",
       "      <th>7</th>\n",
       "      <td>Exam/Unemployment</td>\n",
       "      <td>54370</td>\n",
       "    </tr>\n",
       "    <tr>\n",
       "      <th>13</th>\n",
       "      <td>Love Affairs</td>\n",
       "      <td>45039</td>\n",
       "    </tr>\n",
       "    <tr>\n",
       "      <th>6</th>\n",
       "      <td>Economic Reason</td>\n",
       "      <td>32755</td>\n",
       "    </tr>\n",
       "    <tr>\n",
       "      <th>17</th>\n",
       "      <td>Poverty</td>\n",
       "      <td>32684</td>\n",
       "    </tr>\n",
       "    <tr>\n",
       "      <th>5</th>\n",
       "      <td>Drug Abuse</td>\n",
       "      <td>30046</td>\n",
       "    </tr>\n",
       "  </tbody>\n",
       "</table>\n",
       "</div>"
      ],
      "text/plain": [
       "                 Type   Total\n",
       "9     Family Problems  385009\n",
       "12            Illness  313861\n",
       "7   Exam/Unemployment   54370\n",
       "13       Love Affairs   45039\n",
       "6     Economic Reason   32755\n",
       "17            Poverty   32684\n",
       "5          Drug Abuse   30046"
      ]
     },
     "execution_count": 119,
     "metadata": {},
     "output_type": "execute_result"
    }
   ],
   "source": [
    "suicide_causes"
   ]
  },
  {
   "cell_type": "code",
   "execution_count": 121,
   "metadata": {
    "scrolled": true
   },
   "outputs": [
    {
     "data": {
      "image/png": "[encoded data removed]",
      "text/plain": [
       "<Figure size 1008x360 with 1 Axes>"
      ]
     },
     "metadata": {
      "needs_background": "light"
     },
     "output_type": "display_data"
    }
   ],
   "source": [
    "# Plotting bar graph with total in y-axis and type in x-axis\n",
    "plt.figure(figsize=(14, 5))\n",
    "plt.title(\"Total Suicides and its causes\")\n",
    "sns.barplot(y='Total',x='Type',data=suicide_causes);"
   ]
  },
  {
   "cell_type": "markdown",
   "metadata": {},
   "source": [
    "**Family Problems and Illness the biggest cause of deaths by sucide.** Career Problems and other causes are way too less compared to Family Problems and Illness. "
   ]
  },
  {
   "cell_type": "code",
   "execution_count": 2,
   "metadata": {},
   "outputs": [
    {
     "data": {
      "application/javascript": [
       "window.require && require([\"base/js/namespace\"],function(Jupyter){Jupyter.notebook.save_checkpoint()})"
      ],
      "text/plain": [
       "<IPython.core.display.Javascript object>"
      ]
     },
     "metadata": {},
     "output_type": "display_data"
    },
    {
     "name": "stdout",
     "output_type": "stream",
     "text": [
      "[jovian] Attempting to save notebook..\u001b[0m\n",
      "[jovian] Updating notebook \"akramit/suicides-in-india\" on https://jovian.ml/\u001b[0m\n",
      "[jovian] Uploading notebook..\u001b[0m\n",
      "[jovian] Capturing environment..\u001b[0m\n",
      "[jovian] Uploading additional files...\u001b[0m\n",
      "[jovian] Committed successfully! https://jovian.ml/akramit/suicides-in-india\u001b[0m\n"
     ]
    },
    {
     "data": {
      "text/plain": [
       "'https://jovian.ml/akramit/suicides-in-india'"
      ]
     },
     "execution_count": 2,
     "metadata": {},
     "output_type": "execute_result"
    }
   ],
   "source": [
    "import jovian\n",
    "jovian.commit()"
   ]
  },
  {
   "cell_type": "markdown",
   "metadata": {},
   "source": [
    "## Means Adopted to commit suicides"
   ]
  },
  {
   "cell_type": "markdown",
   "metadata": {},
   "source": [
    "We will look into some of the most common means adopted to commit suicide."
   ]
  },
  {
   "cell_type": "code",
   "execution_count": 95,
   "metadata": {},
   "outputs": [],
   "source": [
    "# Filtering out the only Means_adopted column using\n",
    "means_adopted_df=ind_suicide_df[ind_suicide_df.Type_code=='Means_adopted']"
   ]
  },
  {
   "cell_type": "code",
   "execution_count": 74,
   "metadata": {},
   "outputs": [
    {
     "data": {
      "text/html": [
       "<div>\n",
       "<style scoped>\n",
       "    .dataframe tbody tr th:only-of-type {\n",
       "        vertical-align: middle;\n",
       "    }\n",
       "\n",
       "    .dataframe tbody tr th {\n",
       "        vertical-align: top;\n",
       "    }\n",
       "\n",
       "    .dataframe thead th {\n",
       "        text-align: right;\n",
       "    }\n",
       "</style>\n",
       "<table border=\"1\" class=\"dataframe\">\n",
       "  <thead>\n",
       "    <tr style=\"text-align: right;\">\n",
       "      <th></th>\n",
       "      <th>State</th>\n",
       "      <th>Year</th>\n",
       "      <th>Type_code</th>\n",
       "      <th>Type</th>\n",
       "      <th>Gender</th>\n",
       "      <th>Age_group</th>\n",
       "      <th>Total</th>\n",
       "    </tr>\n",
       "  </thead>\n",
       "  <tbody>\n",
       "    <tr>\n",
       "      <th>277</th>\n",
       "      <td>A &amp; N Islands</td>\n",
       "      <td>2001</td>\n",
       "      <td>Means_adopted</td>\n",
       "      <td>By Hanging</td>\n",
       "      <td>Female</td>\n",
       "      <td>0-14</td>\n",
       "      <td>2</td>\n",
       "    </tr>\n",
       "    <tr>\n",
       "      <th>307</th>\n",
       "      <td>A &amp; N Islands</td>\n",
       "      <td>2001</td>\n",
       "      <td>Means_adopted</td>\n",
       "      <td>By Hanging</td>\n",
       "      <td>Male</td>\n",
       "      <td>0-14</td>\n",
       "      <td>2</td>\n",
       "    </tr>\n",
       "    <tr>\n",
       "      <th>312</th>\n",
       "      <td>A &amp; N Islands</td>\n",
       "      <td>2001</td>\n",
       "      <td>Means_adopted</td>\n",
       "      <td>By Fire/Self Immolation</td>\n",
       "      <td>Female</td>\n",
       "      <td>15-29</td>\n",
       "      <td>2</td>\n",
       "    </tr>\n",
       "    <tr>\n",
       "      <th>315</th>\n",
       "      <td>A &amp; N Islands</td>\n",
       "      <td>2001</td>\n",
       "      <td>Means_adopted</td>\n",
       "      <td>By Consuming Other Poison</td>\n",
       "      <td>Female</td>\n",
       "      <td>15-29</td>\n",
       "      <td>9</td>\n",
       "    </tr>\n",
       "    <tr>\n",
       "      <th>316</th>\n",
       "      <td>A &amp; N Islands</td>\n",
       "      <td>2001</td>\n",
       "      <td>Means_adopted</td>\n",
       "      <td>By Hanging</td>\n",
       "      <td>Female</td>\n",
       "      <td>15-29</td>\n",
       "      <td>20</td>\n",
       "    </tr>\n",
       "    <tr>\n",
       "      <th>...</th>\n",
       "      <td>...</td>\n",
       "      <td>...</td>\n",
       "      <td>...</td>\n",
       "      <td>...</td>\n",
       "      <td>...</td>\n",
       "      <td>...</td>\n",
       "      <td>...</td>\n",
       "    </tr>\n",
       "    <tr>\n",
       "      <th>237393</th>\n",
       "      <td>West Bengal</td>\n",
       "      <td>2012</td>\n",
       "      <td>Means_adopted</td>\n",
       "      <td>By Jumping off Moving Vehicles/Trains</td>\n",
       "      <td>Male</td>\n",
       "      <td>60+</td>\n",
       "      <td>7</td>\n",
       "    </tr>\n",
       "    <tr>\n",
       "      <th>237394</th>\n",
       "      <td>West Bengal</td>\n",
       "      <td>2012</td>\n",
       "      <td>Means_adopted</td>\n",
       "      <td>By Consuming Insecticides</td>\n",
       "      <td>Male</td>\n",
       "      <td>60+</td>\n",
       "      <td>53</td>\n",
       "    </tr>\n",
       "    <tr>\n",
       "      <th>237395</th>\n",
       "      <td>West Bengal</td>\n",
       "      <td>2012</td>\n",
       "      <td>Means_adopted</td>\n",
       "      <td>By Other means (please specify)</td>\n",
       "      <td>Male</td>\n",
       "      <td>60+</td>\n",
       "      <td>241</td>\n",
       "    </tr>\n",
       "    <tr>\n",
       "      <th>237396</th>\n",
       "      <td>West Bengal</td>\n",
       "      <td>2012</td>\n",
       "      <td>Means_adopted</td>\n",
       "      <td>By Consuming Other Poison</td>\n",
       "      <td>Male</td>\n",
       "      <td>60+</td>\n",
       "      <td>99</td>\n",
       "    </tr>\n",
       "    <tr>\n",
       "      <th>237397</th>\n",
       "      <td>West Bengal</td>\n",
       "      <td>2012</td>\n",
       "      <td>Means_adopted</td>\n",
       "      <td>By Fire/Self Immolation</td>\n",
       "      <td>Male</td>\n",
       "      <td>60+</td>\n",
       "      <td>21</td>\n",
       "    </tr>\n",
       "  </tbody>\n",
       "</table>\n",
       "<p>29337 rows × 7 columns</p>\n",
       "</div>"
      ],
      "text/plain": [
       "                State  Year      Type_code  \\\n",
       "277     A & N Islands  2001  Means_adopted   \n",
       "307     A & N Islands  2001  Means_adopted   \n",
       "312     A & N Islands  2001  Means_adopted   \n",
       "315     A & N Islands  2001  Means_adopted   \n",
       "316     A & N Islands  2001  Means_adopted   \n",
       "...               ...   ...            ...   \n",
       "237393    West Bengal  2012  Means_adopted   \n",
       "237394    West Bengal  2012  Means_adopted   \n",
       "237395    West Bengal  2012  Means_adopted   \n",
       "237396    West Bengal  2012  Means_adopted   \n",
       "237397    West Bengal  2012  Means_adopted   \n",
       "\n",
       "                                         Type  Gender Age_group  Total  \n",
       "277                                By Hanging  Female      0-14      2  \n",
       "307                                By Hanging    Male      0-14      2  \n",
       "312                   By Fire/Self Immolation  Female     15-29      2  \n",
       "315                 By Consuming Other Poison  Female     15-29      9  \n",
       "316                                By Hanging  Female     15-29     20  \n",
       "...                                       ...     ...       ...    ...  \n",
       "237393  By Jumping off Moving Vehicles/Trains    Male       60+      7  \n",
       "237394              By Consuming Insecticides    Male       60+     53  \n",
       "237395        By Other means (please specify)    Male       60+    241  \n",
       "237396              By Consuming Other Poison    Male       60+     99  \n",
       "237397                By Fire/Self Immolation    Male       60+     21  \n",
       "\n",
       "[29337 rows x 7 columns]"
      ]
     },
     "execution_count": 74,
     "metadata": {},
     "output_type": "execute_result"
    }
   ],
   "source": [
    "means_adopted_df"
   ]
  },
  {
   "cell_type": "code",
   "execution_count": 75,
   "metadata": {},
   "outputs": [],
   "source": [
    "# Groupby using 'Type' and aggregating using 'Total'\n",
    "means_adopted_df=means_adopted_df.groupby(['Type'])[['Total']].sum()"
   ]
  },
  {
   "cell_type": "code",
   "execution_count": 77,
   "metadata": {},
   "outputs": [],
   "source": [
    "means_adopted_df=means_adopted_df.reset_index()"
   ]
  },
  {
   "cell_type": "code",
   "execution_count": 81,
   "metadata": {},
   "outputs": [],
   "source": [
    "top10_means_adopted=means_adopted_df.sort_values(['Total'],ascending=False).head(10)"
   ]
  },
  {
   "cell_type": "code",
   "execution_count": 82,
   "metadata": {},
   "outputs": [
    {
     "data": {
      "text/html": [
       "<div>\n",
       "<style scoped>\n",
       "    .dataframe tbody tr th:only-of-type {\n",
       "        vertical-align: middle;\n",
       "    }\n",
       "\n",
       "    .dataframe tbody tr th {\n",
       "        vertical-align: top;\n",
       "    }\n",
       "\n",
       "    .dataframe thead th {\n",
       "        text-align: right;\n",
       "    }\n",
       "</style>\n",
       "<table border=\"1\" class=\"dataframe\">\n",
       "  <thead>\n",
       "    <tr style=\"text-align: right;\">\n",
       "      <th></th>\n",
       "      <th>Type</th>\n",
       "      <th>Total</th>\n",
       "    </tr>\n",
       "  </thead>\n",
       "  <tbody>\n",
       "    <tr>\n",
       "      <th>5</th>\n",
       "      <td>By Hanging</td>\n",
       "      <td>460955</td>\n",
       "    </tr>\n",
       "    <tr>\n",
       "      <th>0</th>\n",
       "      <td>By Consuming Insecticides</td>\n",
       "      <td>275501</td>\n",
       "    </tr>\n",
       "    <tr>\n",
       "      <th>1</th>\n",
       "      <td>By Consuming Other Poison</td>\n",
       "      <td>231178</td>\n",
       "    </tr>\n",
       "    <tr>\n",
       "      <th>11</th>\n",
       "      <td>By Other means (please specify)</td>\n",
       "      <td>135132</td>\n",
       "    </tr>\n",
       "    <tr>\n",
       "      <th>4</th>\n",
       "      <td>By Fire/Self Immolation</td>\n",
       "      <td>128006</td>\n",
       "    </tr>\n",
       "    <tr>\n",
       "      <th>2</th>\n",
       "      <td>By Drowning</td>\n",
       "      <td>96711</td>\n",
       "    </tr>\n",
       "    <tr>\n",
       "      <th>15</th>\n",
       "      <td>By coming under running vehicles/trains</td>\n",
       "      <td>45299</td>\n",
       "    </tr>\n",
       "    <tr>\n",
       "      <th>12</th>\n",
       "      <td>By Over Alcoholism</td>\n",
       "      <td>15973</td>\n",
       "    </tr>\n",
       "    <tr>\n",
       "      <th>16</th>\n",
       "      <td>By touching electric wires</td>\n",
       "      <td>10816</td>\n",
       "    </tr>\n",
       "    <tr>\n",
       "      <th>13</th>\n",
       "      <td>By Overdose of sleeping pills</td>\n",
       "      <td>9960</td>\n",
       "    </tr>\n",
       "  </tbody>\n",
       "</table>\n",
       "</div>"
      ],
      "text/plain": [
       "                                       Type   Total\n",
       "5                                By Hanging  460955\n",
       "0                 By Consuming Insecticides  275501\n",
       "1                 By Consuming Other Poison  231178\n",
       "11          By Other means (please specify)  135132\n",
       "4                   By Fire/Self Immolation  128006\n",
       "2                               By Drowning   96711\n",
       "15  By coming under running vehicles/trains   45299\n",
       "12                       By Over Alcoholism   15973\n",
       "16               By touching electric wires   10816\n",
       "13            By Overdose of sleeping pills    9960"
      ]
     },
     "execution_count": 82,
     "metadata": {},
     "output_type": "execute_result"
    }
   ],
   "source": [
    "top10_means_adopted"
   ]
  },
  {
   "cell_type": "code",
   "execution_count": null,
   "metadata": {},
   "outputs": [],
   "source": []
  },
  {
   "cell_type": "code",
   "execution_count": 94,
   "metadata": {},
   "outputs": [
    {
     "data": {
      "image/png": "[encoded data removed]",
      "text/plain": [
       "<Figure size 864x360 with 1 Axes>"
      ]
     },
     "metadata": {
      "needs_background": "light"
     },
     "output_type": "display_data"
    }
   ],
   "source": [
    "# Plot  a bargraph using seaborn\n",
    "plt.figure(figsize=(12,5))\n",
    "sns.barplot(x='Type',y='Total',data=top10_means_adopted)\n",
    "plt.title('Common Means Adopted to Commit Suicides', fontsize=14)\n",
    "plt.xlabel('Means Adopted',fontsize=14)\n",
    "plt.ylabel('Total Suicides',fontsize=14)\n",
    "plt.xticks(rotation=90,fontsize=12);"
   ]
  },
  {
   "cell_type": "markdown",
   "metadata": {},
   "source": [
    "It can be observed from above barplot that **Hanging and Consuming Poison or Insecticides** are the most common means adopted for committing suicides. "
   ]
  },
  {
   "cell_type": "markdown",
   "metadata": {},
   "source": [
    "## Inferences and Conclusion"
   ]
  },
  {
   "cell_type": "markdown",
   "metadata": {},
   "source": [
    "**These are some of the inferences which can be drawn from the analysis done above**\n",
    "1. India has one of the highest percentage of deaths by suicide.\n",
    "2. Male suicides are far more higher than compared to female.\n",
    "3. The most suicides are done by individuals in the age-group 15-29 with more than 35% of total deaths.\n",
    "4. Female suicide is constant since 2001 but male suicide is increasing every year.\n",
    "5. The main cause of suicide is Family problems and Illness.\n",
    "6. Most common means adopted to end life is 'By Hanging'."
   ]
  },
  {
   "cell_type": "markdown",
   "metadata": {},
   "source": [
    "## Dataset Link"
   ]
  },
  {
   "cell_type": "markdown",
   "metadata": {},
   "source": [
    "The dataset was obtained from Kaggle. Here is the [Link.](https://www.kaggle.com/rajanand/suicides-in-india)"
   ]
  },
  {
   "cell_type": "markdown",
   "metadata": {},
   "source": [
    "## References"
   ]
  },
  {
   "cell_type": "markdown",
   "metadata": {},
   "source": [
    "Some of the references used while making this project."
   ]
  },
  {
   "cell_type": "markdown",
   "metadata": {},
   "source": [
    "1. https://pandas.pydata.org/docs/ \n",
    "2. https://matplotlib.org/\n",
    "3. https://seaborn.pydata.org/\n",
    "4. https://www.drawingfromdata.com\n",
    "5. https://www.kite.com/python/"
   ]
  }
 ],
 "metadata": {
  "language_info": {
   "codemirror_mode": {
    "name": "ipython",
    "version": 3
   },
   "file_extension": ".py",
   "mimetype": "text/x-python",
   "name": "python",
   "nbconvert_exporter": "python",
   "pygments_lexer": "ipython3",
   "version": "3.8.5"
  }
 },
 "nbformat": 4,
 "nbformat_minor": 4
}